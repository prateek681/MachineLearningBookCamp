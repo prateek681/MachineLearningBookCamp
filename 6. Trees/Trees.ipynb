{
 "cells": [
  {
   "cell_type": "code",
   "execution_count": 58,
   "metadata": {},
   "outputs": [],
   "source": [
    "import pandas as pd\n",
    "import numpy as np\n",
    "\n",
    "import seaborn as sns\n",
    "from matplotlib import pyplot as plt\n",
    "%matplotlib inline"
   ]
  },
  {
   "cell_type": "code",
   "execution_count": 59,
   "metadata": {},
   "outputs": [],
   "source": [
    "df = pd.read_csv('https://raw.githubusercontent.com/alexeygrigorev/mlbookcamp-code/master/chapter-06-trees/CreditScoring.csv')"
   ]
  },
  {
   "cell_type": "code",
   "execution_count": 60,
   "metadata": {},
   "outputs": [
    {
     "data": {
      "text/html": [
       "<div>\n",
       "<style scoped>\n",
       "    .dataframe tbody tr th:only-of-type {\n",
       "        vertical-align: middle;\n",
       "    }\n",
       "\n",
       "    .dataframe tbody tr th {\n",
       "        vertical-align: top;\n",
       "    }\n",
       "\n",
       "    .dataframe thead th {\n",
       "        text-align: right;\n",
       "    }\n",
       "</style>\n",
       "<table border=\"1\" class=\"dataframe\">\n",
       "  <thead>\n",
       "    <tr style=\"text-align: right;\">\n",
       "      <th></th>\n",
       "      <th>Status</th>\n",
       "      <th>Seniority</th>\n",
       "      <th>Home</th>\n",
       "      <th>Time</th>\n",
       "      <th>Age</th>\n",
       "      <th>Marital</th>\n",
       "      <th>Records</th>\n",
       "      <th>Job</th>\n",
       "      <th>Expenses</th>\n",
       "      <th>Income</th>\n",
       "      <th>Assets</th>\n",
       "      <th>Debt</th>\n",
       "      <th>Amount</th>\n",
       "      <th>Price</th>\n",
       "    </tr>\n",
       "  </thead>\n",
       "  <tbody>\n",
       "    <tr>\n",
       "      <th>0</th>\n",
       "      <td>1</td>\n",
       "      <td>9</td>\n",
       "      <td>1</td>\n",
       "      <td>60</td>\n",
       "      <td>30</td>\n",
       "      <td>2</td>\n",
       "      <td>1</td>\n",
       "      <td>3</td>\n",
       "      <td>73</td>\n",
       "      <td>129</td>\n",
       "      <td>0</td>\n",
       "      <td>0</td>\n",
       "      <td>800</td>\n",
       "      <td>846</td>\n",
       "    </tr>\n",
       "    <tr>\n",
       "      <th>1</th>\n",
       "      <td>1</td>\n",
       "      <td>17</td>\n",
       "      <td>1</td>\n",
       "      <td>60</td>\n",
       "      <td>58</td>\n",
       "      <td>3</td>\n",
       "      <td>1</td>\n",
       "      <td>1</td>\n",
       "      <td>48</td>\n",
       "      <td>131</td>\n",
       "      <td>0</td>\n",
       "      <td>0</td>\n",
       "      <td>1000</td>\n",
       "      <td>1658</td>\n",
       "    </tr>\n",
       "    <tr>\n",
       "      <th>2</th>\n",
       "      <td>2</td>\n",
       "      <td>10</td>\n",
       "      <td>2</td>\n",
       "      <td>36</td>\n",
       "      <td>46</td>\n",
       "      <td>2</td>\n",
       "      <td>2</td>\n",
       "      <td>3</td>\n",
       "      <td>90</td>\n",
       "      <td>200</td>\n",
       "      <td>3000</td>\n",
       "      <td>0</td>\n",
       "      <td>2000</td>\n",
       "      <td>2985</td>\n",
       "    </tr>\n",
       "    <tr>\n",
       "      <th>3</th>\n",
       "      <td>1</td>\n",
       "      <td>0</td>\n",
       "      <td>1</td>\n",
       "      <td>60</td>\n",
       "      <td>24</td>\n",
       "      <td>1</td>\n",
       "      <td>1</td>\n",
       "      <td>1</td>\n",
       "      <td>63</td>\n",
       "      <td>182</td>\n",
       "      <td>2500</td>\n",
       "      <td>0</td>\n",
       "      <td>900</td>\n",
       "      <td>1325</td>\n",
       "    </tr>\n",
       "    <tr>\n",
       "      <th>4</th>\n",
       "      <td>1</td>\n",
       "      <td>0</td>\n",
       "      <td>1</td>\n",
       "      <td>36</td>\n",
       "      <td>26</td>\n",
       "      <td>1</td>\n",
       "      <td>1</td>\n",
       "      <td>1</td>\n",
       "      <td>46</td>\n",
       "      <td>107</td>\n",
       "      <td>0</td>\n",
       "      <td>0</td>\n",
       "      <td>310</td>\n",
       "      <td>910</td>\n",
       "    </tr>\n",
       "  </tbody>\n",
       "</table>\n",
       "</div>"
      ],
      "text/plain": [
       "   Status  Seniority  Home  Time  Age  Marital  Records  Job  Expenses  \\\n",
       "0       1          9     1    60   30        2        1    3        73   \n",
       "1       1         17     1    60   58        3        1    1        48   \n",
       "2       2         10     2    36   46        2        2    3        90   \n",
       "3       1          0     1    60   24        1        1    1        63   \n",
       "4       1          0     1    36   26        1        1    1        46   \n",
       "\n",
       "   Income  Assets  Debt  Amount  Price  \n",
       "0     129       0     0     800    846  \n",
       "1     131       0     0    1000   1658  \n",
       "2     200    3000     0    2000   2985  \n",
       "3     182    2500     0     900   1325  \n",
       "4     107       0     0     310    910  "
      ]
     },
     "execution_count": 60,
     "metadata": {},
     "output_type": "execute_result"
    }
   ],
   "source": [
    "df.head()"
   ]
  },
  {
   "cell_type": "code",
   "execution_count": 61,
   "metadata": {},
   "outputs": [
    {
     "data": {
      "text/html": [
       "<div>\n",
       "<style scoped>\n",
       "    .dataframe tbody tr th:only-of-type {\n",
       "        vertical-align: middle;\n",
       "    }\n",
       "\n",
       "    .dataframe tbody tr th {\n",
       "        vertical-align: top;\n",
       "    }\n",
       "\n",
       "    .dataframe thead th {\n",
       "        text-align: right;\n",
       "    }\n",
       "</style>\n",
       "<table border=\"1\" class=\"dataframe\">\n",
       "  <thead>\n",
       "    <tr style=\"text-align: right;\">\n",
       "      <th></th>\n",
       "      <th>status</th>\n",
       "      <th>seniority</th>\n",
       "      <th>home</th>\n",
       "      <th>time</th>\n",
       "      <th>age</th>\n",
       "      <th>marital</th>\n",
       "      <th>records</th>\n",
       "      <th>job</th>\n",
       "      <th>expenses</th>\n",
       "      <th>income</th>\n",
       "      <th>assets</th>\n",
       "      <th>debt</th>\n",
       "      <th>amount</th>\n",
       "      <th>price</th>\n",
       "    </tr>\n",
       "  </thead>\n",
       "  <tbody>\n",
       "    <tr>\n",
       "      <th>0</th>\n",
       "      <td>1</td>\n",
       "      <td>9</td>\n",
       "      <td>1</td>\n",
       "      <td>60</td>\n",
       "      <td>30</td>\n",
       "      <td>2</td>\n",
       "      <td>1</td>\n",
       "      <td>3</td>\n",
       "      <td>73</td>\n",
       "      <td>129</td>\n",
       "      <td>0</td>\n",
       "      <td>0</td>\n",
       "      <td>800</td>\n",
       "      <td>846</td>\n",
       "    </tr>\n",
       "    <tr>\n",
       "      <th>1</th>\n",
       "      <td>1</td>\n",
       "      <td>17</td>\n",
       "      <td>1</td>\n",
       "      <td>60</td>\n",
       "      <td>58</td>\n",
       "      <td>3</td>\n",
       "      <td>1</td>\n",
       "      <td>1</td>\n",
       "      <td>48</td>\n",
       "      <td>131</td>\n",
       "      <td>0</td>\n",
       "      <td>0</td>\n",
       "      <td>1000</td>\n",
       "      <td>1658</td>\n",
       "    </tr>\n",
       "    <tr>\n",
       "      <th>2</th>\n",
       "      <td>2</td>\n",
       "      <td>10</td>\n",
       "      <td>2</td>\n",
       "      <td>36</td>\n",
       "      <td>46</td>\n",
       "      <td>2</td>\n",
       "      <td>2</td>\n",
       "      <td>3</td>\n",
       "      <td>90</td>\n",
       "      <td>200</td>\n",
       "      <td>3000</td>\n",
       "      <td>0</td>\n",
       "      <td>2000</td>\n",
       "      <td>2985</td>\n",
       "    </tr>\n",
       "    <tr>\n",
       "      <th>3</th>\n",
       "      <td>1</td>\n",
       "      <td>0</td>\n",
       "      <td>1</td>\n",
       "      <td>60</td>\n",
       "      <td>24</td>\n",
       "      <td>1</td>\n",
       "      <td>1</td>\n",
       "      <td>1</td>\n",
       "      <td>63</td>\n",
       "      <td>182</td>\n",
       "      <td>2500</td>\n",
       "      <td>0</td>\n",
       "      <td>900</td>\n",
       "      <td>1325</td>\n",
       "    </tr>\n",
       "    <tr>\n",
       "      <th>4</th>\n",
       "      <td>1</td>\n",
       "      <td>0</td>\n",
       "      <td>1</td>\n",
       "      <td>36</td>\n",
       "      <td>26</td>\n",
       "      <td>1</td>\n",
       "      <td>1</td>\n",
       "      <td>1</td>\n",
       "      <td>46</td>\n",
       "      <td>107</td>\n",
       "      <td>0</td>\n",
       "      <td>0</td>\n",
       "      <td>310</td>\n",
       "      <td>910</td>\n",
       "    </tr>\n",
       "  </tbody>\n",
       "</table>\n",
       "</div>"
      ],
      "text/plain": [
       "   status  seniority  home  time  age  marital  records  job  expenses  \\\n",
       "0       1          9     1    60   30        2        1    3        73   \n",
       "1       1         17     1    60   58        3        1    1        48   \n",
       "2       2         10     2    36   46        2        2    3        90   \n",
       "3       1          0     1    60   24        1        1    1        63   \n",
       "4       1          0     1    36   26        1        1    1        46   \n",
       "\n",
       "   income  assets  debt  amount  price  \n",
       "0     129       0     0     800    846  \n",
       "1     131       0     0    1000   1658  \n",
       "2     200    3000     0    2000   2985  \n",
       "3     182    2500     0     900   1325  \n",
       "4     107       0     0     310    910  "
      ]
     },
     "execution_count": 61,
     "metadata": {},
     "output_type": "execute_result"
    }
   ],
   "source": [
    "df.columns = df.columns.str.lower()\n",
    "df.head()"
   ]
  },
  {
   "cell_type": "code",
   "execution_count": 62,
   "metadata": {},
   "outputs": [
    {
     "data": {
      "text/html": [
       "<div>\n",
       "<style scoped>\n",
       "    .dataframe tbody tr th:only-of-type {\n",
       "        vertical-align: middle;\n",
       "    }\n",
       "\n",
       "    .dataframe tbody tr th {\n",
       "        vertical-align: top;\n",
       "    }\n",
       "\n",
       "    .dataframe thead th {\n",
       "        text-align: right;\n",
       "    }\n",
       "</style>\n",
       "<table border=\"1\" class=\"dataframe\">\n",
       "  <thead>\n",
       "    <tr style=\"text-align: right;\">\n",
       "      <th></th>\n",
       "      <th>status</th>\n",
       "      <th>seniority</th>\n",
       "      <th>home</th>\n",
       "      <th>time</th>\n",
       "      <th>age</th>\n",
       "      <th>marital</th>\n",
       "      <th>records</th>\n",
       "      <th>job</th>\n",
       "      <th>expenses</th>\n",
       "      <th>income</th>\n",
       "      <th>assets</th>\n",
       "      <th>debt</th>\n",
       "      <th>amount</th>\n",
       "      <th>price</th>\n",
       "    </tr>\n",
       "  </thead>\n",
       "  <tbody>\n",
       "    <tr>\n",
       "      <th>0</th>\n",
       "      <td>ok</td>\n",
       "      <td>9</td>\n",
       "      <td>1</td>\n",
       "      <td>60</td>\n",
       "      <td>30</td>\n",
       "      <td>2</td>\n",
       "      <td>1</td>\n",
       "      <td>3</td>\n",
       "      <td>73</td>\n",
       "      <td>129</td>\n",
       "      <td>0</td>\n",
       "      <td>0</td>\n",
       "      <td>800</td>\n",
       "      <td>846</td>\n",
       "    </tr>\n",
       "    <tr>\n",
       "      <th>1</th>\n",
       "      <td>ok</td>\n",
       "      <td>17</td>\n",
       "      <td>1</td>\n",
       "      <td>60</td>\n",
       "      <td>58</td>\n",
       "      <td>3</td>\n",
       "      <td>1</td>\n",
       "      <td>1</td>\n",
       "      <td>48</td>\n",
       "      <td>131</td>\n",
       "      <td>0</td>\n",
       "      <td>0</td>\n",
       "      <td>1000</td>\n",
       "      <td>1658</td>\n",
       "    </tr>\n",
       "    <tr>\n",
       "      <th>2</th>\n",
       "      <td>default</td>\n",
       "      <td>10</td>\n",
       "      <td>2</td>\n",
       "      <td>36</td>\n",
       "      <td>46</td>\n",
       "      <td>2</td>\n",
       "      <td>2</td>\n",
       "      <td>3</td>\n",
       "      <td>90</td>\n",
       "      <td>200</td>\n",
       "      <td>3000</td>\n",
       "      <td>0</td>\n",
       "      <td>2000</td>\n",
       "      <td>2985</td>\n",
       "    </tr>\n",
       "    <tr>\n",
       "      <th>3</th>\n",
       "      <td>ok</td>\n",
       "      <td>0</td>\n",
       "      <td>1</td>\n",
       "      <td>60</td>\n",
       "      <td>24</td>\n",
       "      <td>1</td>\n",
       "      <td>1</td>\n",
       "      <td>1</td>\n",
       "      <td>63</td>\n",
       "      <td>182</td>\n",
       "      <td>2500</td>\n",
       "      <td>0</td>\n",
       "      <td>900</td>\n",
       "      <td>1325</td>\n",
       "    </tr>\n",
       "    <tr>\n",
       "      <th>4</th>\n",
       "      <td>ok</td>\n",
       "      <td>0</td>\n",
       "      <td>1</td>\n",
       "      <td>36</td>\n",
       "      <td>26</td>\n",
       "      <td>1</td>\n",
       "      <td>1</td>\n",
       "      <td>1</td>\n",
       "      <td>46</td>\n",
       "      <td>107</td>\n",
       "      <td>0</td>\n",
       "      <td>0</td>\n",
       "      <td>310</td>\n",
       "      <td>910</td>\n",
       "    </tr>\n",
       "  </tbody>\n",
       "</table>\n",
       "</div>"
      ],
      "text/plain": [
       "    status  seniority  home  time  age  marital  records  job  expenses  \\\n",
       "0       ok          9     1    60   30        2        1    3        73   \n",
       "1       ok         17     1    60   58        3        1    1        48   \n",
       "2  default         10     2    36   46        2        2    3        90   \n",
       "3       ok          0     1    60   24        1        1    1        63   \n",
       "4       ok          0     1    36   26        1        1    1        46   \n",
       "\n",
       "   income  assets  debt  amount  price  \n",
       "0     129       0     0     800    846  \n",
       "1     131       0     0    1000   1658  \n",
       "2     200    3000     0    2000   2985  \n",
       "3     182    2500     0     900   1325  \n",
       "4     107       0     0     310    910  "
      ]
     },
     "execution_count": 62,
     "metadata": {},
     "output_type": "execute_result"
    }
   ],
   "source": [
    "status_values = {\n",
    "    1: 'ok',\n",
    "    2: 'default',\n",
    "    0: 'unk'\n",
    "}\n",
    "\n",
    "df.status = df.status.map(status_values)\n",
    "df.head()"
   ]
  },
  {
   "cell_type": "code",
   "execution_count": 63,
   "metadata": {},
   "outputs": [],
   "source": [
    "home_values = {\n",
    "    1: 'rent',\n",
    "    2: 'owner',\n",
    "    3: 'private',\n",
    "    4: 'ignore',\n",
    "    5: 'parents',\n",
    "    6: 'other',\n",
    "    0: 'unk'\n",
    "}\n",
    "\n",
    "df.home = df.home.map(home_values)"
   ]
  },
  {
   "cell_type": "code",
   "execution_count": 64,
   "metadata": {},
   "outputs": [],
   "source": [
    "marital_values = {\n",
    "    1: 'single',\n",
    "    2: 'married',\n",
    "    3: 'widow',\n",
    "    4: 'separated',\n",
    "    5: 'divorced',\n",
    "    0: 'unk'\n",
    "}\n",
    "\n",
    "df.marital = df.marital.map(marital_values)"
   ]
  },
  {
   "cell_type": "code",
   "execution_count": 65,
   "metadata": {},
   "outputs": [],
   "source": [
    "records_values = {\n",
    "    1: 'no',\n",
    "    2: 'yes',\n",
    "    0: 'unk'\n",
    "}\n",
    "\n",
    "df.records = df.records.map(records_values)"
   ]
  },
  {
   "cell_type": "code",
   "execution_count": 66,
   "metadata": {},
   "outputs": [],
   "source": [
    "job_values = {\n",
    "    1: 'fixed',\n",
    "    2: 'partime',\n",
    "    3: 'freelance',\n",
    "    4: 'others',\n",
    "    0: 'unk'\n",
    "}\n",
    "\n",
    "df.job = df.job.map(job_values)"
   ]
  },
  {
   "cell_type": "code",
   "execution_count": 67,
   "metadata": {},
   "outputs": [
    {
     "data": {
      "text/html": [
       "<div>\n",
       "<style scoped>\n",
       "    .dataframe tbody tr th:only-of-type {\n",
       "        vertical-align: middle;\n",
       "    }\n",
       "\n",
       "    .dataframe tbody tr th {\n",
       "        vertical-align: top;\n",
       "    }\n",
       "\n",
       "    .dataframe thead th {\n",
       "        text-align: right;\n",
       "    }\n",
       "</style>\n",
       "<table border=\"1\" class=\"dataframe\">\n",
       "  <thead>\n",
       "    <tr style=\"text-align: right;\">\n",
       "      <th></th>\n",
       "      <th>status</th>\n",
       "      <th>seniority</th>\n",
       "      <th>home</th>\n",
       "      <th>time</th>\n",
       "      <th>age</th>\n",
       "      <th>marital</th>\n",
       "      <th>records</th>\n",
       "      <th>job</th>\n",
       "      <th>expenses</th>\n",
       "      <th>income</th>\n",
       "      <th>assets</th>\n",
       "      <th>debt</th>\n",
       "      <th>amount</th>\n",
       "      <th>price</th>\n",
       "    </tr>\n",
       "  </thead>\n",
       "  <tbody>\n",
       "    <tr>\n",
       "      <th>0</th>\n",
       "      <td>ok</td>\n",
       "      <td>9</td>\n",
       "      <td>rent</td>\n",
       "      <td>60</td>\n",
       "      <td>30</td>\n",
       "      <td>married</td>\n",
       "      <td>no</td>\n",
       "      <td>freelance</td>\n",
       "      <td>73</td>\n",
       "      <td>129</td>\n",
       "      <td>0</td>\n",
       "      <td>0</td>\n",
       "      <td>800</td>\n",
       "      <td>846</td>\n",
       "    </tr>\n",
       "    <tr>\n",
       "      <th>1</th>\n",
       "      <td>ok</td>\n",
       "      <td>17</td>\n",
       "      <td>rent</td>\n",
       "      <td>60</td>\n",
       "      <td>58</td>\n",
       "      <td>widow</td>\n",
       "      <td>no</td>\n",
       "      <td>fixed</td>\n",
       "      <td>48</td>\n",
       "      <td>131</td>\n",
       "      <td>0</td>\n",
       "      <td>0</td>\n",
       "      <td>1000</td>\n",
       "      <td>1658</td>\n",
       "    </tr>\n",
       "    <tr>\n",
       "      <th>2</th>\n",
       "      <td>default</td>\n",
       "      <td>10</td>\n",
       "      <td>owner</td>\n",
       "      <td>36</td>\n",
       "      <td>46</td>\n",
       "      <td>married</td>\n",
       "      <td>yes</td>\n",
       "      <td>freelance</td>\n",
       "      <td>90</td>\n",
       "      <td>200</td>\n",
       "      <td>3000</td>\n",
       "      <td>0</td>\n",
       "      <td>2000</td>\n",
       "      <td>2985</td>\n",
       "    </tr>\n",
       "    <tr>\n",
       "      <th>3</th>\n",
       "      <td>ok</td>\n",
       "      <td>0</td>\n",
       "      <td>rent</td>\n",
       "      <td>60</td>\n",
       "      <td>24</td>\n",
       "      <td>single</td>\n",
       "      <td>no</td>\n",
       "      <td>fixed</td>\n",
       "      <td>63</td>\n",
       "      <td>182</td>\n",
       "      <td>2500</td>\n",
       "      <td>0</td>\n",
       "      <td>900</td>\n",
       "      <td>1325</td>\n",
       "    </tr>\n",
       "    <tr>\n",
       "      <th>4</th>\n",
       "      <td>ok</td>\n",
       "      <td>0</td>\n",
       "      <td>rent</td>\n",
       "      <td>36</td>\n",
       "      <td>26</td>\n",
       "      <td>single</td>\n",
       "      <td>no</td>\n",
       "      <td>fixed</td>\n",
       "      <td>46</td>\n",
       "      <td>107</td>\n",
       "      <td>0</td>\n",
       "      <td>0</td>\n",
       "      <td>310</td>\n",
       "      <td>910</td>\n",
       "    </tr>\n",
       "  </tbody>\n",
       "</table>\n",
       "</div>"
      ],
      "text/plain": [
       "    status  seniority   home  time  age  marital records        job  expenses  \\\n",
       "0       ok          9   rent    60   30  married      no  freelance        73   \n",
       "1       ok         17   rent    60   58    widow      no      fixed        48   \n",
       "2  default         10  owner    36   46  married     yes  freelance        90   \n",
       "3       ok          0   rent    60   24   single      no      fixed        63   \n",
       "4       ok          0   rent    36   26   single      no      fixed        46   \n",
       "\n",
       "   income  assets  debt  amount  price  \n",
       "0     129       0     0     800    846  \n",
       "1     131       0     0    1000   1658  \n",
       "2     200    3000     0    2000   2985  \n",
       "3     182    2500     0     900   1325  \n",
       "4     107       0     0     310    910  "
      ]
     },
     "execution_count": 67,
     "metadata": {},
     "output_type": "execute_result"
    }
   ],
   "source": [
    "df.head()\n"
   ]
  },
  {
   "cell_type": "code",
   "execution_count": 68,
   "metadata": {},
   "outputs": [
    {
     "data": {
      "text/html": [
       "<div>\n",
       "<style scoped>\n",
       "    .dataframe tbody tr th:only-of-type {\n",
       "        vertical-align: middle;\n",
       "    }\n",
       "\n",
       "    .dataframe tbody tr th {\n",
       "        vertical-align: top;\n",
       "    }\n",
       "\n",
       "    .dataframe thead th {\n",
       "        text-align: right;\n",
       "    }\n",
       "</style>\n",
       "<table border=\"1\" class=\"dataframe\">\n",
       "  <thead>\n",
       "    <tr style=\"text-align: right;\">\n",
       "      <th></th>\n",
       "      <th>seniority</th>\n",
       "      <th>time</th>\n",
       "      <th>age</th>\n",
       "      <th>expenses</th>\n",
       "      <th>income</th>\n",
       "      <th>assets</th>\n",
       "      <th>debt</th>\n",
       "      <th>amount</th>\n",
       "      <th>price</th>\n",
       "    </tr>\n",
       "  </thead>\n",
       "  <tbody>\n",
       "    <tr>\n",
       "      <th>count</th>\n",
       "      <td>4455.0</td>\n",
       "      <td>4455.0</td>\n",
       "      <td>4455.0</td>\n",
       "      <td>4455.0</td>\n",
       "      <td>4455.0</td>\n",
       "      <td>4455.0</td>\n",
       "      <td>4455.0</td>\n",
       "      <td>4455.0</td>\n",
       "      <td>4455.0</td>\n",
       "    </tr>\n",
       "    <tr>\n",
       "      <th>mean</th>\n",
       "      <td>8.0</td>\n",
       "      <td>46.0</td>\n",
       "      <td>37.0</td>\n",
       "      <td>56.0</td>\n",
       "      <td>763317.0</td>\n",
       "      <td>1060341.0</td>\n",
       "      <td>404382.0</td>\n",
       "      <td>1039.0</td>\n",
       "      <td>1463.0</td>\n",
       "    </tr>\n",
       "    <tr>\n",
       "      <th>std</th>\n",
       "      <td>8.0</td>\n",
       "      <td>15.0</td>\n",
       "      <td>11.0</td>\n",
       "      <td>20.0</td>\n",
       "      <td>8703625.0</td>\n",
       "      <td>10217569.0</td>\n",
       "      <td>6344253.0</td>\n",
       "      <td>475.0</td>\n",
       "      <td>628.0</td>\n",
       "    </tr>\n",
       "    <tr>\n",
       "      <th>min</th>\n",
       "      <td>0.0</td>\n",
       "      <td>6.0</td>\n",
       "      <td>18.0</td>\n",
       "      <td>35.0</td>\n",
       "      <td>0.0</td>\n",
       "      <td>0.0</td>\n",
       "      <td>0.0</td>\n",
       "      <td>100.0</td>\n",
       "      <td>105.0</td>\n",
       "    </tr>\n",
       "    <tr>\n",
       "      <th>25%</th>\n",
       "      <td>2.0</td>\n",
       "      <td>36.0</td>\n",
       "      <td>28.0</td>\n",
       "      <td>35.0</td>\n",
       "      <td>80.0</td>\n",
       "      <td>0.0</td>\n",
       "      <td>0.0</td>\n",
       "      <td>700.0</td>\n",
       "      <td>1118.0</td>\n",
       "    </tr>\n",
       "    <tr>\n",
       "      <th>50%</th>\n",
       "      <td>5.0</td>\n",
       "      <td>48.0</td>\n",
       "      <td>36.0</td>\n",
       "      <td>51.0</td>\n",
       "      <td>120.0</td>\n",
       "      <td>3500.0</td>\n",
       "      <td>0.0</td>\n",
       "      <td>1000.0</td>\n",
       "      <td>1400.0</td>\n",
       "    </tr>\n",
       "    <tr>\n",
       "      <th>75%</th>\n",
       "      <td>12.0</td>\n",
       "      <td>60.0</td>\n",
       "      <td>45.0</td>\n",
       "      <td>72.0</td>\n",
       "      <td>166.0</td>\n",
       "      <td>6000.0</td>\n",
       "      <td>0.0</td>\n",
       "      <td>1300.0</td>\n",
       "      <td>1692.0</td>\n",
       "    </tr>\n",
       "    <tr>\n",
       "      <th>max</th>\n",
       "      <td>48.0</td>\n",
       "      <td>72.0</td>\n",
       "      <td>68.0</td>\n",
       "      <td>180.0</td>\n",
       "      <td>99999999.0</td>\n",
       "      <td>99999999.0</td>\n",
       "      <td>99999999.0</td>\n",
       "      <td>5000.0</td>\n",
       "      <td>11140.0</td>\n",
       "    </tr>\n",
       "  </tbody>\n",
       "</table>\n",
       "</div>"
      ],
      "text/plain": [
       "       seniority    time     age  expenses      income      assets  \\\n",
       "count     4455.0  4455.0  4455.0    4455.0      4455.0      4455.0   \n",
       "mean         8.0    46.0    37.0      56.0    763317.0   1060341.0   \n",
       "std          8.0    15.0    11.0      20.0   8703625.0  10217569.0   \n",
       "min          0.0     6.0    18.0      35.0         0.0         0.0   \n",
       "25%          2.0    36.0    28.0      35.0        80.0         0.0   \n",
       "50%          5.0    48.0    36.0      51.0       120.0      3500.0   \n",
       "75%         12.0    60.0    45.0      72.0       166.0      6000.0   \n",
       "max         48.0    72.0    68.0     180.0  99999999.0  99999999.0   \n",
       "\n",
       "             debt  amount    price  \n",
       "count      4455.0  4455.0   4455.0  \n",
       "mean     404382.0  1039.0   1463.0  \n",
       "std     6344253.0   475.0    628.0  \n",
       "min           0.0   100.0    105.0  \n",
       "25%           0.0   700.0   1118.0  \n",
       "50%           0.0  1000.0   1400.0  \n",
       "75%           0.0  1300.0   1692.0  \n",
       "max    99999999.0  5000.0  11140.0  "
      ]
     },
     "execution_count": 68,
     "metadata": {},
     "output_type": "execute_result"
    }
   ],
   "source": [
    "df.describe().round()"
   ]
  },
  {
   "cell_type": "code",
   "execution_count": 69,
   "metadata": {},
   "outputs": [],
   "source": [
    "for c in ['income', 'assets', 'debt']:\n",
    "    df[c] = df[c].replace(to_replace=99999999, value=np.nan)"
   ]
  },
  {
   "cell_type": "code",
   "execution_count": 70,
   "metadata": {},
   "outputs": [
    {
     "data": {
      "text/plain": [
       "status        0\n",
       "seniority     0\n",
       "home          0\n",
       "time          0\n",
       "age           0\n",
       "marital       0\n",
       "records       0\n",
       "job           0\n",
       "expenses      0\n",
       "income       34\n",
       "assets       47\n",
       "debt         18\n",
       "amount        0\n",
       "price         0\n",
       "dtype: int64"
      ]
     },
     "execution_count": 70,
     "metadata": {},
     "output_type": "execute_result"
    }
   ],
   "source": [
    "df.isnull().sum()"
   ]
  },
  {
   "cell_type": "code",
   "execution_count": 71,
   "metadata": {},
   "outputs": [
    {
     "data": {
      "text/html": [
       "<div>\n",
       "<style scoped>\n",
       "    .dataframe tbody tr th:only-of-type {\n",
       "        vertical-align: middle;\n",
       "    }\n",
       "\n",
       "    .dataframe tbody tr th {\n",
       "        vertical-align: top;\n",
       "    }\n",
       "\n",
       "    .dataframe thead th {\n",
       "        text-align: right;\n",
       "    }\n",
       "</style>\n",
       "<table border=\"1\" class=\"dataframe\">\n",
       "  <thead>\n",
       "    <tr style=\"text-align: right;\">\n",
       "      <th></th>\n",
       "      <th>seniority</th>\n",
       "      <th>time</th>\n",
       "      <th>age</th>\n",
       "      <th>expenses</th>\n",
       "      <th>income</th>\n",
       "      <th>assets</th>\n",
       "      <th>debt</th>\n",
       "      <th>amount</th>\n",
       "      <th>price</th>\n",
       "    </tr>\n",
       "  </thead>\n",
       "  <tbody>\n",
       "    <tr>\n",
       "      <th>count</th>\n",
       "      <td>4455.0</td>\n",
       "      <td>4455.0</td>\n",
       "      <td>4455.0</td>\n",
       "      <td>4455.0</td>\n",
       "      <td>4421.0</td>\n",
       "      <td>4408.0</td>\n",
       "      <td>4437.0</td>\n",
       "      <td>4455.0</td>\n",
       "      <td>4455.0</td>\n",
       "    </tr>\n",
       "    <tr>\n",
       "      <th>mean</th>\n",
       "      <td>8.0</td>\n",
       "      <td>46.0</td>\n",
       "      <td>37.0</td>\n",
       "      <td>56.0</td>\n",
       "      <td>131.0</td>\n",
       "      <td>5403.0</td>\n",
       "      <td>343.0</td>\n",
       "      <td>1039.0</td>\n",
       "      <td>1463.0</td>\n",
       "    </tr>\n",
       "    <tr>\n",
       "      <th>std</th>\n",
       "      <td>8.0</td>\n",
       "      <td>15.0</td>\n",
       "      <td>11.0</td>\n",
       "      <td>20.0</td>\n",
       "      <td>86.0</td>\n",
       "      <td>11573.0</td>\n",
       "      <td>1246.0</td>\n",
       "      <td>475.0</td>\n",
       "      <td>628.0</td>\n",
       "    </tr>\n",
       "    <tr>\n",
       "      <th>min</th>\n",
       "      <td>0.0</td>\n",
       "      <td>6.0</td>\n",
       "      <td>18.0</td>\n",
       "      <td>35.0</td>\n",
       "      <td>0.0</td>\n",
       "      <td>0.0</td>\n",
       "      <td>0.0</td>\n",
       "      <td>100.0</td>\n",
       "      <td>105.0</td>\n",
       "    </tr>\n",
       "    <tr>\n",
       "      <th>25%</th>\n",
       "      <td>2.0</td>\n",
       "      <td>36.0</td>\n",
       "      <td>28.0</td>\n",
       "      <td>35.0</td>\n",
       "      <td>80.0</td>\n",
       "      <td>0.0</td>\n",
       "      <td>0.0</td>\n",
       "      <td>700.0</td>\n",
       "      <td>1118.0</td>\n",
       "    </tr>\n",
       "    <tr>\n",
       "      <th>50%</th>\n",
       "      <td>5.0</td>\n",
       "      <td>48.0</td>\n",
       "      <td>36.0</td>\n",
       "      <td>51.0</td>\n",
       "      <td>120.0</td>\n",
       "      <td>3000.0</td>\n",
       "      <td>0.0</td>\n",
       "      <td>1000.0</td>\n",
       "      <td>1400.0</td>\n",
       "    </tr>\n",
       "    <tr>\n",
       "      <th>75%</th>\n",
       "      <td>12.0</td>\n",
       "      <td>60.0</td>\n",
       "      <td>45.0</td>\n",
       "      <td>72.0</td>\n",
       "      <td>165.0</td>\n",
       "      <td>6000.0</td>\n",
       "      <td>0.0</td>\n",
       "      <td>1300.0</td>\n",
       "      <td>1692.0</td>\n",
       "    </tr>\n",
       "    <tr>\n",
       "      <th>max</th>\n",
       "      <td>48.0</td>\n",
       "      <td>72.0</td>\n",
       "      <td>68.0</td>\n",
       "      <td>180.0</td>\n",
       "      <td>959.0</td>\n",
       "      <td>300000.0</td>\n",
       "      <td>30000.0</td>\n",
       "      <td>5000.0</td>\n",
       "      <td>11140.0</td>\n",
       "    </tr>\n",
       "  </tbody>\n",
       "</table>\n",
       "</div>"
      ],
      "text/plain": [
       "       seniority    time     age  expenses  income    assets     debt  amount  \\\n",
       "count     4455.0  4455.0  4455.0    4455.0  4421.0    4408.0   4437.0  4455.0   \n",
       "mean         8.0    46.0    37.0      56.0   131.0    5403.0    343.0  1039.0   \n",
       "std          8.0    15.0    11.0      20.0    86.0   11573.0   1246.0   475.0   \n",
       "min          0.0     6.0    18.0      35.0     0.0       0.0      0.0   100.0   \n",
       "25%          2.0    36.0    28.0      35.0    80.0       0.0      0.0   700.0   \n",
       "50%          5.0    48.0    36.0      51.0   120.0    3000.0      0.0  1000.0   \n",
       "75%         12.0    60.0    45.0      72.0   165.0    6000.0      0.0  1300.0   \n",
       "max         48.0    72.0    68.0     180.0   959.0  300000.0  30000.0  5000.0   \n",
       "\n",
       "         price  \n",
       "count   4455.0  \n",
       "mean    1463.0  \n",
       "std      628.0  \n",
       "min      105.0  \n",
       "25%     1118.0  \n",
       "50%     1400.0  \n",
       "75%     1692.0  \n",
       "max    11140.0  "
      ]
     },
     "execution_count": 71,
     "metadata": {},
     "output_type": "execute_result"
    }
   ],
   "source": [
    "df.describe().round()"
   ]
  },
  {
   "cell_type": "code",
   "execution_count": 72,
   "metadata": {},
   "outputs": [
    {
     "data": {
      "text/plain": [
       "ok         3200\n",
       "default    1254\n",
       "unk           1\n",
       "Name: status, dtype: int64"
      ]
     },
     "execution_count": 72,
     "metadata": {},
     "output_type": "execute_result"
    }
   ],
   "source": [
    "df.status.value_counts()"
   ]
  },
  {
   "cell_type": "code",
   "execution_count": 73,
   "metadata": {},
   "outputs": [],
   "source": [
    "df = df[df.status != 'unk']"
   ]
  },
  {
   "cell_type": "code",
   "execution_count": 74,
   "metadata": {},
   "outputs": [
    {
     "data": {
      "text/plain": [
       "status        0\n",
       "seniority     0\n",
       "home          0\n",
       "time          0\n",
       "age           0\n",
       "marital       0\n",
       "records       0\n",
       "job           0\n",
       "expenses      0\n",
       "income       34\n",
       "assets       47\n",
       "debt         18\n",
       "amount        0\n",
       "price         0\n",
       "dtype: int64"
      ]
     },
     "execution_count": 74,
     "metadata": {},
     "output_type": "execute_result"
    }
   ],
   "source": [
    "df.isnull().sum()"
   ]
  },
  {
   "cell_type": "code",
   "execution_count": 75,
   "metadata": {},
   "outputs": [],
   "source": [
    "from sklearn.model_selection import train_test_split"
   ]
  },
  {
   "cell_type": "code",
   "execution_count": 76,
   "metadata": {},
   "outputs": [],
   "source": [
    "df_train_full, df_test = train_test_split(df, test_size=0.2, random_state=11)\n",
    "df_train, df_val = train_test_split(df_train_full, test_size=0.25, random_state=11)"
   ]
  },
  {
   "cell_type": "code",
   "execution_count": 77,
   "metadata": {},
   "outputs": [],
   "source": [
    "y_train = (df_train.status == 'default').values\n",
    "y_val = (df_val.status == 'default').values"
   ]
  },
  {
   "cell_type": "code",
   "execution_count": 78,
   "metadata": {},
   "outputs": [],
   "source": [
    "del df_train['status']\n",
    "del df_val['status']"
   ]
  },
  {
   "cell_type": "code",
   "execution_count": 79,
   "metadata": {},
   "outputs": [
    {
     "data": {
      "text/plain": [
       "(2672, 891, 891)"
      ]
     },
     "execution_count": 79,
     "metadata": {},
     "output_type": "execute_result"
    }
   ],
   "source": [
    "len(df_train), len(df_val), len(df_test)"
   ]
  },
  {
   "cell_type": "code",
   "execution_count": 80,
   "metadata": {},
   "outputs": [],
   "source": [
    "from sklearn.feature_extraction  import DictVectorizer"
   ]
  },
  {
   "cell_type": "code",
   "execution_count": 81,
   "metadata": {},
   "outputs": [
    {
     "data": {
      "text/plain": [
       "seniority     0\n",
       "home          0\n",
       "time          0\n",
       "age           0\n",
       "marital       0\n",
       "records       0\n",
       "job           0\n",
       "expenses      0\n",
       "income       25\n",
       "assets       30\n",
       "debt         11\n",
       "amount        0\n",
       "price         0\n",
       "dtype: int64"
      ]
     },
     "execution_count": 81,
     "metadata": {},
     "output_type": "execute_result"
    }
   ],
   "source": [
    "df_train.isnull().sum()\n"
   ]
  },
  {
   "cell_type": "code",
   "execution_count": 82,
   "metadata": {},
   "outputs": [],
   "source": [
    "dict_train = df_train.fillna(0).to_dict(orient='records')\n",
    "dict_val = df_val.fillna(0).to_dict(orient='records')"
   ]
  },
  {
   "cell_type": "code",
   "execution_count": 83,
   "metadata": {},
   "outputs": [
    {
     "data": {
      "text/plain": [
       "{'seniority': 10,\n",
       " 'home': 'owner',\n",
       " 'time': 36,\n",
       " 'age': 36,\n",
       " 'marital': 'married',\n",
       " 'records': 'no',\n",
       " 'job': 'freelance',\n",
       " 'expenses': 75,\n",
       " 'income': 0.0,\n",
       " 'assets': 10000.0,\n",
       " 'debt': 0.0,\n",
       " 'amount': 1000,\n",
       " 'price': 1400}"
      ]
     },
     "execution_count": 83,
     "metadata": {},
     "output_type": "execute_result"
    }
   ],
   "source": [
    "dict_train[0]"
   ]
  },
  {
   "cell_type": "code",
   "execution_count": 84,
   "metadata": {},
   "outputs": [
    {
     "data": {
      "text/plain": [
       "{'seniority': 6,\n",
       " 'home': 'rent',\n",
       " 'time': 36,\n",
       " 'age': 31,\n",
       " 'marital': 'separated',\n",
       " 'records': 'no',\n",
       " 'job': 'fixed',\n",
       " 'expenses': 49,\n",
       " 'income': 140.0,\n",
       " 'assets': 0.0,\n",
       " 'debt': 0.0,\n",
       " 'amount': 550,\n",
       " 'price': 999}"
      ]
     },
     "execution_count": 84,
     "metadata": {},
     "output_type": "execute_result"
    }
   ],
   "source": [
    "dict_val[0]"
   ]
  },
  {
   "cell_type": "code",
   "execution_count": 85,
   "metadata": {},
   "outputs": [],
   "source": [
    "dv = DictVectorizer(sparse = False)\n",
    "X_train = dv.fit_transform(dict_train)\n",
    "X_val = dv.transform(dict_val)"
   ]
  },
  {
   "cell_type": "code",
   "execution_count": 86,
   "metadata": {},
   "outputs": [
    {
     "data": {
      "text/plain": [
       "DecisionTreeClassifier()"
      ]
     },
     "execution_count": 86,
     "metadata": {},
     "output_type": "execute_result"
    }
   ],
   "source": [
    "from sklearn.tree import DecisionTreeClassifier\n",
    "from sklearn.metrics import roc_auc_score\n",
    "\n",
    "dt = DecisionTreeClassifier()\n",
    "dt.fit(X_train, y_train)"
   ]
  },
  {
   "cell_type": "code",
   "execution_count": 87,
   "metadata": {},
   "outputs": [
    {
     "data": {
      "text/plain": [
       "1.0"
      ]
     },
     "execution_count": 87,
     "metadata": {},
     "output_type": "execute_result"
    }
   ],
   "source": [
    "y_pred = dt.predict_proba(X_train)[:, 1]\n",
    "roc_auc_score(y_train, y_pred)"
   ]
  },
  {
   "cell_type": "code",
   "execution_count": 88,
   "metadata": {},
   "outputs": [
    {
     "data": {
      "text/plain": [
       "0.6618270325252477"
      ]
     },
     "execution_count": 88,
     "metadata": {},
     "output_type": "execute_result"
    }
   ],
   "source": [
    "y_pred = dt.predict_proba(X_val)[:, 1]\n",
    "roc_auc_score(y_val, y_pred)"
   ]
  },
  {
   "cell_type": "code",
   "execution_count": 89,
   "metadata": {},
   "outputs": [
    {
     "name": "stdout",
     "output_type": "stream",
     "text": [
      "train auc: 0.705\n",
      "val auc: 0.669\n"
     ]
    }
   ],
   "source": [
    "dt = DecisionTreeClassifier(max_depth=2)\n",
    "dt.fit(X_train, y_train)\n",
    "\n",
    "y_pred = dt.predict_proba(X_train)[:, 1]\n",
    "auc = roc_auc_score(y_train, y_pred)\n",
    "print('train auc: %.3f' % auc)\n",
    "\n",
    "y_pred = dt.predict_proba(X_val)[:, 1]\n",
    "auc = roc_auc_score(y_val, y_pred)\n",
    "print('val auc: %.3f' % auc)"
   ]
  },
  {
   "cell_type": "code",
   "execution_count": 90,
   "metadata": {},
   "outputs": [
    {
     "data": {
      "text/plain": [
       "DecisionTreeClassifier(max_depth=6)"
      ]
     },
     "execution_count": 90,
     "metadata": {},
     "output_type": "execute_result"
    }
   ],
   "source": [
    "dt = DecisionTreeClassifier(max_depth=6)\n",
    "dt.fit(X_train, y_train)"
   ]
  },
  {
   "cell_type": "code",
   "execution_count": 91,
   "metadata": {},
   "outputs": [],
   "source": [
    "y_pred = dt.predict_proba(X_val)[:, 1]"
   ]
  },
  {
   "cell_type": "code",
   "execution_count": 92,
   "metadata": {},
   "outputs": [
    {
     "data": {
      "text/plain": [
       "0.7453773219345621"
      ]
     },
     "execution_count": 92,
     "metadata": {},
     "output_type": "execute_result"
    }
   ],
   "source": [
    "roc_auc_score(y_val, y_pred)"
   ]
  },
  {
   "cell_type": "code",
   "execution_count": 93,
   "metadata": {},
   "outputs": [
    {
     "name": "stdout",
     "output_type": "stream",
     "text": [
      "   1 -> 0.606\n",
      "   2 -> 0.669\n",
      "   3 -> 0.739\n",
      "   4 -> 0.761\n",
      "   5 -> 0.766\n",
      "   6 -> 0.758\n",
      "  10 -> 0.705\n",
      "  15 -> 0.666\n",
      "  20 -> 0.667\n",
      "None -> 0.665\n"
     ]
    }
   ],
   "source": [
    "for depth in [1, 2, 3, 4, 5, 6, 10, 15, 20, None]:\n",
    "    dt = DecisionTreeClassifier(max_depth=depth)\n",
    "    dt.fit(X_train, y_train)\n",
    "    y_pred = dt.predict_proba(X_val)[:, 1]\n",
    "    auc = roc_auc_score(y_val, y_pred)\n",
    "    print('%4s -> %.3f' % (depth, auc))"
   ]
  },
  {
   "cell_type": "code",
   "execution_count": 94,
   "metadata": {},
   "outputs": [
    {
     "name": "stdout",
     "output_type": "stream",
     "text": [
      "1 -> 0.761\n",
      "5 -> 0.761\n",
      "10 -> 0.761\n",
      "15 -> 0.764\n",
      "20 -> 0.761\n",
      "50 -> 0.753\n",
      "100 -> 0.756\n",
      "200 -> 0.747\n"
     ]
    }
   ],
   "source": [
    "for m in [1, 5, 10, 15, 20, 50, 100, 200]:\n",
    "    dt = DecisionTreeClassifier(max_depth=4, min_samples_leaf=m)\n",
    "    dt.fit(X_train, y_train)\n",
    "    y_pred = dt.predict_proba(X_val)[:, 1]\n",
    "    auc = roc_auc_score(y_val, y_pred)\n",
    "    print('%s -> %.3f' % (m, auc))"
   ]
  },
  {
   "cell_type": "code",
   "execution_count": 95,
   "metadata": {},
   "outputs": [
    {
     "name": "stdout",
     "output_type": "stream",
     "text": [
      "depth: 4\n",
      "1 -> 0.761\n",
      "5 -> 0.761\n",
      "10 -> 0.761\n",
      "15 -> 0.764\n",
      "20 -> 0.761\n",
      "50 -> 0.753\n",
      "100 -> 0.756\n",
      "200 -> 0.747\n",
      "\n",
      "depth: 5\n",
      "1 -> 0.766\n",
      "5 -> 0.768\n",
      "10 -> 0.762\n",
      "15 -> 0.772\n",
      "20 -> 0.774\n",
      "50 -> 0.768\n",
      "100 -> 0.763\n",
      "200 -> 0.759\n",
      "\n",
      "depth: 6\n",
      "1 -> 0.761\n",
      "5 -> 0.760\n",
      "10 -> 0.778\n",
      "15 -> 0.786\n",
      "20 -> 0.774\n",
      "50 -> 0.770\n",
      "100 -> 0.776\n",
      "200 -> 0.768\n",
      "\n"
     ]
    }
   ],
   "source": [
    "for m in [4, 5, 6]:\n",
    "    print('depth: %s' % m)\n",
    "\n",
    "    for s in [1, 5, 10, 15, 20, 50, 100, 200]:\n",
    "        dt = DecisionTreeClassifier(max_depth=m, min_samples_leaf=s)\n",
    "        dt.fit(X_train, y_train)\n",
    "        y_pred = dt.predict_proba(X_val)[:, 1]\n",
    "        auc = roc_auc_score(y_val, y_pred)\n",
    "        print('%s -> %.3f' % (s, auc))\n",
    "    \n",
    "    print()"
   ]
  },
  {
   "cell_type": "code",
   "execution_count": 96,
   "metadata": {},
   "outputs": [
    {
     "data": {
      "text/plain": [
       "0.7850954203095104"
      ]
     },
     "execution_count": 96,
     "metadata": {},
     "output_type": "execute_result"
    }
   ],
   "source": [
    "dt = DecisionTreeClassifier(max_depth=6, min_samples_leaf=15)\n",
    "dt.fit(X_train, y_train)\n",
    "\n",
    "y_pred_dt = dt.predict_proba(X_val)[:, 1]\n",
    "roc_auc_score(y_val, y_pred_dt)"
   ]
  },
  {
   "cell_type": "code",
   "execution_count": 97,
   "metadata": {},
   "outputs": [],
   "source": [
    "from sklearn.metrics import roc_curve\n"
   ]
  },
  {
   "cell_type": "code",
   "execution_count": 98,
   "metadata": {},
   "outputs": [
    {
     "data": {
      "image/png": "[encoded data removed]",
      "text/plain": [
       "<Figure size 360x360 with 1 Axes>"
      ]
     },
     "metadata": {
      "needs_background": "light"
     },
     "output_type": "display_data"
    }
   ],
   "source": [
    "fpr, tpr, _ = roc_curve(y_val, y_pred_dt)\n",
    "\n",
    "plt.figure(figsize=(5, 5))\n",
    "\n",
    "plt.plot(fpr, tpr, color='black')\n",
    "plt.plot([0, 1], [0, 1], color='black', lw=0.7, linestyle='dashed', alpha=0.5)\n",
    "\n",
    "plt.xlim([-0.02, 1.02])\n",
    "plt.ylim([-0.02, 1.02])\n",
    "plt.xlabel('False Positive Rate')\n",
    "plt.ylabel('True Positive Rate')\n",
    "\n",
    "plt.title('ROC curve')\n",
    "\n",
    "plt.show()"
   ]
  },
  {
   "cell_type": "code",
   "execution_count": 99,
   "metadata": {},
   "outputs": [],
   "source": [
    "from sklearn.ensemble import RandomForestClassifier"
   ]
  },
  {
   "cell_type": "code",
   "execution_count": 100,
   "metadata": {},
   "outputs": [
    {
     "data": {
      "text/plain": [
       "0.7910440531835023"
      ]
     },
     "execution_count": 100,
     "metadata": {},
     "output_type": "execute_result"
    }
   ],
   "source": [
    "rf = RandomForestClassifier(n_estimators=10)\n",
    "rf.fit(X_train, y_train)\n",
    "y_pred = rf.predict_proba(X_val)[:, 1]\n",
    "roc_auc_score(y_val, y_pred)"
   ]
  },
  {
   "cell_type": "code",
   "execution_count": 101,
   "metadata": {},
   "outputs": [
    {
     "data": {
      "text/plain": [
       "0.7770640091061005"
      ]
     },
     "execution_count": 101,
     "metadata": {},
     "output_type": "execute_result"
    }
   ],
   "source": [
    "rf = RandomForestClassifier(n_estimators=10)\n",
    "rf.fit(X_train, y_train)\n",
    "y_pred = rf.predict_proba(X_val)[:, 1]\n",
    "roc_auc_score(y_val, y_pred)"
   ]
  },
  {
   "cell_type": "code",
   "execution_count": 102,
   "metadata": {},
   "outputs": [
    {
     "name": "stdout",
     "output_type": "stream",
     "text": [
      "0.786 +- 0.009\n",
      "0.777 -- 0.796\n"
     ]
    }
   ],
   "source": [
    "aucs = []\n",
    "\n",
    "for i in range(100):\n",
    "    rf = RandomForestClassifier(n_estimators=10)\n",
    "    rf.fit(X_train, y_train)\n",
    "    y_pred = rf.predict_proba(X_val)[:, 1]\n",
    "    auc = roc_auc_score(y_val, y_pred)\n",
    "    aucs.append(auc)\n",
    "\n",
    "auc_mean = np.mean(aucs)\n",
    "auc_std = np.std(aucs)\n",
    "\n",
    "print('%.3f +- %.3f' % (auc_mean, auc_std))\n",
    "print('%.3f -- %.3f' % (auc_mean -  auc_std, auc_mean + auc_std))"
   ]
  },
  {
   "cell_type": "code",
   "execution_count": 103,
   "metadata": {},
   "outputs": [
    {
     "data": {
      "text/plain": [
       "0.7811145285897654"
      ]
     },
     "execution_count": 103,
     "metadata": {},
     "output_type": "execute_result"
    }
   ],
   "source": [
    "rf = RandomForestClassifier(n_estimators=10, random_state=3)\n",
    "rf.fit(X_train, y_train)\n",
    "y_pred = rf.predict_proba(X_val)[:, 1]\n",
    "roc_auc_score(y_val, y_pred)"
   ]
  },
  {
   "cell_type": "code",
   "execution_count": 104,
   "metadata": {},
   "outputs": [
    {
     "name": "stdout",
     "output_type": "stream",
     "text": [
      "10 -> 0.781\n",
      "20 -> 0.801\n",
      "30 -> 0.813\n",
      "40 -> 0.815\n",
      "50 -> 0.816\n",
      "60 -> 0.817\n",
      "70 -> 0.818\n",
      "80 -> 0.818\n",
      "90 -> 0.820\n",
      "100 -> 0.819\n",
      "110 -> 0.819\n",
      "120 -> 0.821\n",
      "130 -> 0.822\n",
      "140 -> 0.822\n",
      "150 -> 0.820\n",
      "160 -> 0.820\n",
      "170 -> 0.819\n",
      "180 -> 0.820\n",
      "190 -> 0.820\n",
      "200 -> 0.820\n"
     ]
    }
   ],
   "source": [
    "aucs = []\n",
    "\n",
    "for i in range(10, 201, 10):\n",
    "    rf = RandomForestClassifier(n_estimators=i, random_state=3)\n",
    "    rf.fit(X_train, y_train)\n",
    "    y_pred = rf.predict_proba(X_val)[:, 1]\n",
    "    auc = roc_auc_score(y_val, y_pred)\n",
    "    print('%s -> %.3f' % (i, auc))\n",
    "    aucs.append(auc)"
   ]
  },
  {
   "cell_type": "code",
   "execution_count": 105,
   "metadata": {},
   "outputs": [
    {
     "data": {
      "image/png": "[encoded data removed]",
      "text/plain": [
       "<Figure size 432x288 with 1 Axes>"
      ]
     },
     "metadata": {
      "needs_background": "light"
     },
     "output_type": "display_data"
    }
   ],
   "source": [
    "plt.figure(figsize=(6, 4))\n",
    "\n",
    "plt.plot(range(10, 201, 10), aucs, color='black')\n",
    "plt.xticks(range(0, 201, 50))\n",
    "\n",
    "plt.title('Number of trees vs AUC')\n",
    "plt.xlabel('Number of trees')\n",
    "plt.ylabel('AUC')\n",
    "\n",
    "# plt.savefig('ch06-figures/06_random_forest_n_estimators.svg')\n",
    "\n",
    "plt.show()"
   ]
  },
  {
   "cell_type": "code",
   "execution_count": 106,
   "metadata": {},
   "outputs": [
    {
     "name": "stdout",
     "output_type": "stream",
     "text": [
      "depth: 5\n",
      "10 -> 0.788\n",
      "20 -> 0.798\n",
      "30 -> 0.800\n",
      "40 -> 0.800\n",
      "50 -> 0.800\n",
      "60 -> 0.801\n",
      "70 -> 0.802\n",
      "80 -> 0.803\n",
      "90 -> 0.804\n",
      "100 -> 0.804\n",
      "110 -> 0.807\n",
      "120 -> 0.806\n",
      "130 -> 0.808\n",
      "140 -> 0.807\n",
      "150 -> 0.807\n",
      "160 -> 0.807\n",
      "170 -> 0.807\n",
      "180 -> 0.807\n",
      "190 -> 0.807\n",
      "200 -> 0.807\n",
      "\n",
      "depth: 10\n",
      "10 -> 0.791\n",
      "20 -> 0.808\n",
      "30 -> 0.812\n",
      "40 -> 0.818\n",
      "50 -> 0.817\n",
      "60 -> 0.819\n",
      "70 -> 0.820\n",
      "80 -> 0.820\n",
      "90 -> 0.820\n",
      "100 -> 0.821\n",
      "110 -> 0.823\n",
      "120 -> 0.823\n",
      "130 -> 0.825\n",
      "140 -> 0.824\n",
      "150 -> 0.824\n",
      "160 -> 0.825\n",
      "170 -> 0.825\n",
      "180 -> 0.825\n",
      "190 -> 0.825\n",
      "200 -> 0.825\n",
      "\n",
      "depth: 20\n",
      "10 -> 0.776\n",
      "20 -> 0.803\n",
      "30 -> 0.813\n",
      "40 -> 0.817\n",
      "50 -> 0.815\n",
      "60 -> 0.813\n",
      "70 -> 0.814\n",
      "80 -> 0.815\n",
      "90 -> 0.814\n",
      "100 -> 0.815\n",
      "110 -> 0.817\n",
      "120 -> 0.816\n",
      "130 -> 0.818\n",
      "140 -> 0.818\n",
      "150 -> 0.818\n",
      "160 -> 0.818\n",
      "170 -> 0.817\n",
      "180 -> 0.817\n",
      "190 -> 0.817\n",
      "200 -> 0.818\n",
      "\n"
     ]
    }
   ],
   "source": [
    "all_aucs = {}\n",
    "\n",
    "for depth in [5, 10, 20]:\n",
    "    print('depth: %s' % depth)\n",
    "    aucs = []\n",
    "\n",
    "    for i in range(10, 201, 10):\n",
    "        rf = RandomForestClassifier(n_estimators=i, max_depth=depth, random_state=1)\n",
    "        rf.fit(X_train, y_train)\n",
    "        y_pred = rf.predict_proba(X_val)[:, 1]\n",
    "        auc = roc_auc_score(y_val, y_pred)\n",
    "        print('%s -> %.3f' % (i, auc))\n",
    "        aucs.append(auc)\n",
    "    \n",
    "    all_aucs[depth] = aucs\n",
    "    print()"
   ]
  },
  {
   "cell_type": "code",
   "execution_count": 107,
   "metadata": {},
   "outputs": [
    {
     "data": {
      "image/png": "[encoded data removed]",
      "text/plain": [
       "<Figure size 432x288 with 1 Axes>"
      ]
     },
     "metadata": {
      "needs_background": "light"
     },
     "output_type": "display_data"
    }
   ],
   "source": [
    "plt.figure(figsize=(6, 4))\n",
    "\n",
    "num_trees = list(range(10, 201, 10))\n",
    "\n",
    "plt.plot(num_trees, all_aucs[5], label='depth=5', color='black', linestyle='dotted')\n",
    "plt.plot(num_trees, all_aucs[10], label='depth=10', color='black', linestyle='dashed')\n",
    "plt.plot(num_trees, all_aucs[20], label='depth=20', color='black', linestyle='solid')\n",
    "    \n",
    "plt.xticks(range(0, 201, 50))\n",
    "plt.legend()\n",
    "\n",
    "plt.title('Number of trees vs AUC')\n",
    "plt.xlabel('Number of trees')\n",
    "plt.ylabel('AUC')\n",
    "\n",
    "# plt.savefig('ch06-figures/06_random_forest_n_estimators_depth.svg')\n",
    "\n",
    "plt.show()"
   ]
  },
  {
   "cell_type": "code",
   "execution_count": 108,
   "metadata": {},
   "outputs": [
    {
     "name": "stdout",
     "output_type": "stream",
     "text": [
      "min_samples_leaf: 3\n",
      "10 -> 0.811\n",
      "30 -> 0.823\n",
      "50 -> 0.823\n",
      "70 -> 0.822\n",
      "90 -> 0.823\n",
      "110 -> 0.823\n",
      "130 -> 0.824\n",
      "150 -> 0.825\n",
      "170 -> 0.825\n",
      "190 -> 0.825\n",
      "\n",
      "min_samples_leaf: 5\n",
      "10 -> 0.813\n",
      "30 -> 0.818\n",
      "50 -> 0.821\n",
      "70 -> 0.822\n",
      "90 -> 0.822\n",
      "110 -> 0.825\n",
      "130 -> 0.825\n",
      "150 -> 0.825\n",
      "170 -> 0.825\n",
      "190 -> 0.826\n",
      "\n",
      "min_samples_leaf: 10\n",
      "10 -> 0.810\n",
      "30 -> 0.822\n",
      "50 -> 0.822\n",
      "70 -> 0.819\n",
      "90 -> 0.820\n",
      "110 -> 0.820\n",
      "130 -> 0.821\n",
      "150 -> 0.820\n",
      "170 -> 0.820\n",
      "190 -> 0.820\n",
      "\n"
     ]
    }
   ],
   "source": [
    "all_aucs = {}\n",
    "\n",
    "for m in [3, 5, 10]:\n",
    "    print('min_samples_leaf: %s' % m)\n",
    "    aucs = []\n",
    "\n",
    "    for i in range(10, 201, 20):\n",
    "        rf = RandomForestClassifier(n_estimators=i, max_depth=10, min_samples_leaf=m, random_state=1)\n",
    "        rf.fit(X_train, y_train)\n",
    "        y_pred = rf.predict_proba(X_val)[:, 1]\n",
    "        auc = roc_auc_score(y_val, y_pred)\n",
    "        print('%s -> %.3f' % (i, auc))\n",
    "        aucs.append(auc)\n",
    "    \n",
    "    all_aucs[m] = aucs\n",
    "    print()"
   ]
  },
  {
   "cell_type": "code",
   "execution_count": 109,
   "metadata": {},
   "outputs": [
    {
     "data": {
      "image/png": "[encoded data removed]",
      "text/plain": [
       "<Figure size 432x288 with 1 Axes>"
      ]
     },
     "metadata": {
      "needs_background": "light"
     },
     "output_type": "display_data"
    }
   ],
   "source": [
    "plt.figure(figsize=(6, 4))\n",
    "\n",
    "num_trees = list(range(10, 201, 20))\n",
    "\n",
    "plt.plot(num_trees, all_aucs[3], label='min_samples_leaf=3', color='black', linestyle='dotted')\n",
    "plt.plot(num_trees, all_aucs[5], label='min_samples_leaf=5', color='black', linestyle='dashed')\n",
    "plt.plot(num_trees, all_aucs[10], label='min_samples_leaf=10', color='black', linestyle='solid')\n",
    "    \n",
    "plt.xticks(range(0, 201, 50))\n",
    "plt.legend()\n",
    "\n",
    "plt.title('Number of trees vs AUC')\n",
    "plt.xlabel('Number of trees')\n",
    "plt.ylabel('AUC')\n",
    "\n",
    "# plt.savefig('ch06-figures/06_random_forest_n_estimators_sample_leaf.svg')\n",
    "\n",
    "\n",
    "plt.show()"
   ]
  },
  {
   "cell_type": "code",
   "execution_count": 110,
   "metadata": {},
   "outputs": [
    {
     "data": {
      "text/plain": [
       "RandomForestClassifier(max_depth=10, min_samples_leaf=5, n_estimators=200,\n",
       "                       random_state=1)"
      ]
     },
     "execution_count": 110,
     "metadata": {},
     "output_type": "execute_result"
    }
   ],
   "source": [
    "rf = RandomForestClassifier(n_estimators=200, max_depth=10, min_samples_leaf=5, random_state=1)\n",
    "rf.fit(X_train, y_train)"
   ]
  },
  {
   "cell_type": "code",
   "execution_count": 111,
   "metadata": {},
   "outputs": [
    {
     "data": {
      "text/plain": [
       "0.8253826499721489"
      ]
     },
     "execution_count": 111,
     "metadata": {},
     "output_type": "execute_result"
    }
   ],
   "source": [
    "y_pred_rf = rf.predict_proba(X_val)[:, 1]\n",
    "roc_auc_score(y_val, y_pred_rf)"
   ]
  },
  {
   "cell_type": "code",
   "execution_count": 112,
   "metadata": {},
   "outputs": [
    {
     "data": {
      "image/png": "[encoded data removed]",
      "text/plain": [
       "<Figure size 360x360 with 1 Axes>"
      ]
     },
     "metadata": {
      "needs_background": "light"
     },
     "output_type": "display_data"
    }
   ],
   "source": [
    "plt.figure(figsize=(5, 5))\n",
    "\n",
    "fpr, tpr, _ = roc_curve(y_val, y_pred_rf)\n",
    "plt.plot(fpr, tpr, color='black')\n",
    "\n",
    "fpr, tpr, _ = roc_curve(y_val, y_pred_dt)\n",
    "plt.plot(fpr, tpr, color='black', linestyle='dashed')\n",
    "\n",
    "plt.plot([0, 1], [0, 1], color='black', lw=0.7, linestyle='dashed', alpha=0.5)\n",
    "\n",
    "plt.xlim([-0.02, 1.02])\n",
    "plt.ylim([-0.02, 1.02])\n",
    "plt.xlabel('False Positive Rate')\n",
    "plt.ylabel('True Positive Rate')\n",
    "\n",
    "plt.title('ROC curve')\n",
    "\n",
    "plt.show()"
   ]
  },
  {
   "cell_type": "code",
   "execution_count": 113,
   "metadata": {},
   "outputs": [],
   "source": [
    "import xgboost as xgb"
   ]
  },
  {
   "cell_type": "code",
   "execution_count": 114,
   "metadata": {},
   "outputs": [],
   "source": [
    "dtrain = xgb.DMatrix(X_train, label=y_train, feature_names=dv.feature_names_)\n",
    "dval = xgb.DMatrix(X_val, label=y_val, feature_names=dv.feature_names_)"
   ]
  },
  {
   "cell_type": "code",
   "execution_count": 115,
   "metadata": {},
   "outputs": [],
   "source": [
    "xgb_params = {\n",
    "    'eta': 0.3,\n",
    "    'max_depth': 6,\n",
    "    'min_child_weight': 1,\n",
    "\n",
    "    'objective': 'binary:logistic',\n",
    "    'nthread': 8,\n",
    "    'seed': 1\n",
    "}"
   ]
  },
  {
   "cell_type": "code",
   "execution_count": 116,
   "metadata": {},
   "outputs": [
    {
     "name": "stdout",
     "output_type": "stream",
     "text": [
      "[11:11:56] WARNING: C:/Users/Administrator/workspace/xgboost-win64_release_1.4.0/src/learner.cc:1095: Starting in XGBoost 1.3.0, the default evaluation metric used with the objective 'binary:logistic' was changed from 'error' to 'logloss'. Explicitly set eval_metric if you'd like to restore the old behavior.\n"
     ]
    }
   ],
   "source": [
    "model = xgb.train(xgb_params, dtrain, num_boost_round=10)\n"
   ]
  },
  {
   "cell_type": "code",
   "execution_count": 117,
   "metadata": {},
   "outputs": [
    {
     "data": {
      "text/plain": [
       "array([0.08926772, 0.0468099 , 0.09692743, 0.17261842, 0.05435968,\n",
       "       0.12576081, 0.08033007, 0.61870354, 0.486538  , 0.04056795],\n",
       "      dtype=float32)"
      ]
     },
     "execution_count": 117,
     "metadata": {},
     "output_type": "execute_result"
    }
   ],
   "source": [
    "y_pred = model.predict(dval)\n",
    "y_pred[:10]"
   ]
  },
  {
   "cell_type": "code",
   "execution_count": 118,
   "metadata": {},
   "outputs": [
    {
     "data": {
      "text/plain": [
       "0.8152745150274878"
      ]
     },
     "execution_count": 118,
     "metadata": {},
     "output_type": "execute_result"
    }
   ],
   "source": [
    "roc_auc_score(y_val, y_pred)\n"
   ]
  },
  {
   "cell_type": "code",
   "execution_count": 119,
   "metadata": {},
   "outputs": [],
   "source": [
    "watchlist = [(dtrain, 'train'), (dval, 'val')]\n"
   ]
  },
  {
   "cell_type": "code",
   "execution_count": 120,
   "metadata": {},
   "outputs": [],
   "source": [
    "xgb_params = {\n",
    "    'eta': 0.3,\n",
    "    'max_depth': 6,\n",
    "    'min_child_weight': 1,\n",
    "\n",
    "    'objective': 'binary:logistic',\n",
    "    'eval_metric': 'auc',\n",
    "    'nthread': 8,\n",
    "    'seed': 1\n",
    "}"
   ]
  },
  {
   "cell_type": "code",
   "execution_count": 121,
   "metadata": {},
   "outputs": [
    {
     "name": "stdout",
     "output_type": "stream",
     "text": [
      "[0]\ttrain-auc:0.86300\tval-auc:0.76818\n",
      "[10]\ttrain-auc:0.95002\tval-auc:0.81558\n",
      "[20]\ttrain-auc:0.97316\tval-auc:0.81775\n",
      "[30]\ttrain-auc:0.98772\tval-auc:0.81788\n",
      "[40]\ttrain-auc:0.99456\tval-auc:0.81387\n",
      "[50]\ttrain-auc:0.99688\tval-auc:0.81128\n",
      "[60]\ttrain-auc:0.99889\tval-auc:0.80801\n",
      "[70]\ttrain-auc:0.99944\tval-auc:0.80732\n",
      "[80]\ttrain-auc:0.99985\tval-auc:0.80677\n",
      "[90]\ttrain-auc:0.99991\tval-auc:0.80637\n",
      "[99]\ttrain-auc:0.99997\tval-auc:0.80546\n"
     ]
    }
   ],
   "source": [
    "model = xgb.train(xgb_params, dtrain,\n",
    "                  num_boost_round=100,\n",
    "                  evals=watchlist, verbose_eval=10)"
   ]
  },
  {
   "cell_type": "code",
   "execution_count": 122,
   "metadata": {},
   "outputs": [],
   "source": [
    "%%capture output\n",
    "\n",
    "model = xgb.train(xgb_params, dtrain,\n",
    "                  num_boost_round=100,\n",
    "                  evals=watchlist, verbose_eval=5)"
   ]
  },
  {
   "cell_type": "code",
   "execution_count": 123,
   "metadata": {},
   "outputs": [],
   "source": [
    "def parse_xgb_output(output):\n",
    "    tree = []\n",
    "    aucs_train = []\n",
    "    aucs_val = []\n",
    "\n",
    "    for line in output.stdout.strip().split('\\n'):\n",
    "        it_line, train_line, val_line = line.split('\\t')\n",
    "\n",
    "        it = int(it_line.strip('[]'))\n",
    "        train = float(train_line.split(':')[1])\n",
    "        val = float(val_line.split(':')[1])\n",
    "\n",
    "        tree.append(it)\n",
    "        aucs_train.append(train)\n",
    "        aucs_val.append(val)\n",
    "\n",
    "    return tree, aucs_train, aucs_val"
   ]
  },
  {
   "cell_type": "code",
   "execution_count": 124,
   "metadata": {},
   "outputs": [],
   "source": [
    "tree, aucs_train, aucs_val = parse_xgb_output(output)\n"
   ]
  },
  {
   "cell_type": "code",
   "execution_count": 125,
   "metadata": {},
   "outputs": [
    {
     "data": {
      "image/png": "[encoded data removed]",
      "text/plain": [
       "<Figure size 432x288 with 1 Axes>"
      ]
     },
     "metadata": {
      "needs_background": "light"
     },
     "output_type": "display_data"
    }
   ],
   "source": [
    "plt.figure(figsize=(6, 4))\n",
    "\n",
    "plt.plot(tree, aucs_train, color='black', linestyle='dashed', label='Train AUC')\n",
    "plt.plot(tree, aucs_val, color='black', linestyle='solid', label='Validation AUC')\n",
    "plt.xticks(range(0, 101, 25))\n",
    "\n",
    "plt.legend()\n",
    "\n",
    "plt.title('XGBoost: number of trees vs AUC')\n",
    "plt.xlabel('Number of trees')\n",
    "plt.ylabel('AUC')\n",
    "\n",
    "# plt.savefig('ch06-figures/06_xgb_default.svg')\n",
    "\n",
    "plt.show()"
   ]
  },
  {
   "cell_type": "code",
   "execution_count": 126,
   "metadata": {},
   "outputs": [
    {
     "name": "stdout",
     "output_type": "stream",
     "text": [
      "[0]\ttrain-auc:0.86300\tval-auc:0.76818\n",
      "[10]\ttrain-auc:0.95002\tval-auc:0.81558\n",
      "[20]\ttrain-auc:0.97316\tval-auc:0.81775\n",
      "[30]\ttrain-auc:0.98772\tval-auc:0.81788\n",
      "[40]\ttrain-auc:0.99456\tval-auc:0.81387\n",
      "[50]\ttrain-auc:0.99688\tval-auc:0.81128\n",
      "[60]\ttrain-auc:0.99889\tval-auc:0.80801\n",
      "[70]\ttrain-auc:0.99944\tval-auc:0.80732\n",
      "[80]\ttrain-auc:0.99985\tval-auc:0.80677\n",
      "[90]\ttrain-auc:0.99991\tval-auc:0.80637\n",
      "[100]\ttrain-auc:0.99999\tval-auc:0.80508\n",
      "[110]\ttrain-auc:1.00000\tval-auc:0.80527\n",
      "[120]\ttrain-auc:1.00000\tval-auc:0.80431\n",
      "[130]\ttrain-auc:1.00000\tval-auc:0.80395\n",
      "[140]\ttrain-auc:1.00000\tval-auc:0.80278\n",
      "[150]\ttrain-auc:1.00000\tval-auc:0.80184\n",
      "[160]\ttrain-auc:1.00000\tval-auc:0.80143\n",
      "[170]\ttrain-auc:1.00000\tval-auc:0.80123\n",
      "[180]\ttrain-auc:1.00000\tval-auc:0.80128\n",
      "[190]\ttrain-auc:1.00000\tval-auc:0.80139\n",
      "[200]\ttrain-auc:1.00000\tval-auc:0.80024\n",
      "[210]\ttrain-auc:1.00000\tval-auc:0.80133\n",
      "[220]\ttrain-auc:1.00000\tval-auc:0.80094\n",
      "[230]\ttrain-auc:1.00000\tval-auc:0.80003\n",
      "[240]\ttrain-auc:1.00000\tval-auc:0.80125\n",
      "[250]\ttrain-auc:1.00000\tval-auc:0.80024\n",
      "[260]\ttrain-auc:1.00000\tval-auc:0.80023\n",
      "[270]\ttrain-auc:1.00000\tval-auc:0.80048\n",
      "[280]\ttrain-auc:1.00000\tval-auc:0.80076\n",
      "[290]\ttrain-auc:1.00000\tval-auc:0.80073\n",
      "[300]\ttrain-auc:1.00000\tval-auc:0.80037\n",
      "[310]\ttrain-auc:1.00000\tval-auc:0.80104\n",
      "[320]\ttrain-auc:1.00000\tval-auc:0.80038\n",
      "[330]\ttrain-auc:1.00000\tval-auc:0.80023\n",
      "[340]\ttrain-auc:1.00000\tval-auc:0.80025\n",
      "[350]\ttrain-auc:1.00000\tval-auc:0.79980\n",
      "[360]\ttrain-auc:1.00000\tval-auc:0.79990\n",
      "[370]\ttrain-auc:1.00000\tval-auc:0.79973\n",
      "[380]\ttrain-auc:1.00000\tval-auc:0.79903\n",
      "[390]\ttrain-auc:1.00000\tval-auc:0.79926\n",
      "[400]\ttrain-auc:1.00000\tval-auc:0.79891\n",
      "[410]\ttrain-auc:1.00000\tval-auc:0.79891\n",
      "[420]\ttrain-auc:1.00000\tval-auc:0.79892\n",
      "[430]\ttrain-auc:1.00000\tval-auc:0.79833\n",
      "[440]\ttrain-auc:1.00000\tval-auc:0.79853\n",
      "[450]\ttrain-auc:1.00000\tval-auc:0.79844\n",
      "[460]\ttrain-auc:1.00000\tval-auc:0.79845\n",
      "[470]\ttrain-auc:1.00000\tval-auc:0.79828\n",
      "[480]\ttrain-auc:1.00000\tval-auc:0.79805\n",
      "[490]\ttrain-auc:1.00000\tval-auc:0.79854\n",
      "[499]\ttrain-auc:1.00000\tval-auc:0.79843\n"
     ]
    }
   ],
   "source": [
    "xgb_params = {\n",
    "    'eta': 0.3,\n",
    "    'max_depth': 6,\n",
    "    'min_child_weight': 1,\n",
    "\n",
    "    'objective': 'binary:logistic',\n",
    "    'eval_metric': 'auc',\n",
    "    'nthread': 8,\n",
    "    'seed': 1,\n",
    "}\n",
    "\n",
    "model = xgb.train(xgb_params, dtrain,\n",
    "                  num_boost_round=500, verbose_eval=10,\n",
    "                  evals=watchlist)\n"
   ]
  },
  {
   "cell_type": "code",
   "execution_count": 127,
   "metadata": {},
   "outputs": [
    {
     "name": "stdout",
     "output_type": "stream",
     "text": [
      "0.81878\n",
      "(0.81878, 25)\n"
     ]
    }
   ],
   "source": [
    "tree, _, aucs_val_eta_03 = parse_xgb_output(output)\n",
    "print(max(aucs_val_eta_03))\n",
    "print(max(zip(aucs_val_eta_03, tree)))"
   ]
  },
  {
   "cell_type": "code",
   "execution_count": 128,
   "metadata": {},
   "outputs": [
    {
     "name": "stdout",
     "output_type": "stream",
     "text": [
      "[0]\ttrain-auc:0.86300\tval-auc:0.76818\n",
      "[10]\ttrain-auc:0.91558\tval-auc:0.80009\n",
      "[20]\ttrain-auc:0.93933\tval-auc:0.80920\n",
      "[30]\ttrain-auc:0.95411\tval-auc:0.81557\n",
      "[40]\ttrain-auc:0.96332\tval-auc:0.81843\n",
      "[50]\ttrain-auc:0.97014\tval-auc:0.82348\n",
      "[60]\ttrain-auc:0.97641\tval-auc:0.82446\n",
      "[70]\ttrain-auc:0.98124\tval-auc:0.82476\n",
      "[80]\ttrain-auc:0.98567\tval-auc:0.82329\n",
      "[90]\ttrain-auc:0.98818\tval-auc:0.82363\n",
      "[100]\ttrain-auc:0.99056\tval-auc:0.82371\n",
      "[110]\ttrain-auc:0.99305\tval-auc:0.82355\n",
      "[120]\ttrain-auc:0.99434\tval-auc:0.82208\n",
      "[130]\ttrain-auc:0.99510\tval-auc:0.82079\n",
      "[140]\ttrain-auc:0.99606\tval-auc:0.82025\n",
      "[150]\ttrain-auc:0.99690\tval-auc:0.81946\n",
      "[160]\ttrain-auc:0.99741\tval-auc:0.81907\n",
      "[170]\ttrain-auc:0.99794\tval-auc:0.81839\n",
      "[180]\ttrain-auc:0.99832\tval-auc:0.81830\n",
      "[190]\ttrain-auc:0.99874\tval-auc:0.81711\n",
      "[200]\ttrain-auc:0.99919\tval-auc:0.81770\n",
      "[210]\ttrain-auc:0.99938\tval-auc:0.81719\n",
      "[220]\ttrain-auc:0.99951\tval-auc:0.81622\n",
      "[230]\ttrain-auc:0.99969\tval-auc:0.81467\n",
      "[240]\ttrain-auc:0.99979\tval-auc:0.81416\n",
      "[250]\ttrain-auc:0.99987\tval-auc:0.81412\n",
      "[260]\ttrain-auc:0.99990\tval-auc:0.81392\n",
      "[270]\ttrain-auc:0.99994\tval-auc:0.81354\n",
      "[280]\ttrain-auc:0.99995\tval-auc:0.81286\n",
      "[290]\ttrain-auc:0.99997\tval-auc:0.81201\n",
      "[300]\ttrain-auc:0.99998\tval-auc:0.81187\n",
      "[310]\ttrain-auc:0.99999\tval-auc:0.81189\n",
      "[320]\ttrain-auc:0.99999\tval-auc:0.81104\n",
      "[330]\ttrain-auc:1.00000\tval-auc:0.81170\n",
      "[340]\ttrain-auc:1.00000\tval-auc:0.81193\n",
      "[350]\ttrain-auc:1.00000\tval-auc:0.81146\n",
      "[360]\ttrain-auc:1.00000\tval-auc:0.81152\n",
      "[370]\ttrain-auc:1.00000\tval-auc:0.81138\n",
      "[380]\ttrain-auc:1.00000\tval-auc:0.81186\n",
      "[390]\ttrain-auc:1.00000\tval-auc:0.81184\n",
      "[400]\ttrain-auc:1.00000\tval-auc:0.81201\n",
      "[410]\ttrain-auc:1.00000\tval-auc:0.81180\n",
      "[420]\ttrain-auc:1.00000\tval-auc:0.81205\n",
      "[430]\ttrain-auc:1.00000\tval-auc:0.81188\n",
      "[440]\ttrain-auc:1.00000\tval-auc:0.81184\n",
      "[450]\ttrain-auc:1.00000\tval-auc:0.81214\n",
      "[460]\ttrain-auc:1.00000\tval-auc:0.81200\n",
      "[470]\ttrain-auc:1.00000\tval-auc:0.81242\n",
      "[480]\ttrain-auc:1.00000\tval-auc:0.81262\n",
      "[490]\ttrain-auc:1.00000\tval-auc:0.81220\n",
      "[499]\ttrain-auc:1.00000\tval-auc:0.81226\n"
     ]
    }
   ],
   "source": [
    "xgb_params = {\n",
    "    'eta': 0.1,\n",
    "    'max_depth': 6,\n",
    "    'min_child_weight': 1,\n",
    "\n",
    "    'objective': 'binary:logistic',\n",
    "    'eval_metric': 'auc',\n",
    "    'nthread': 8,\n",
    "    'seed': 1,\n",
    "}\n",
    "\n",
    "model = xgb.train(xgb_params, dtrain,\n",
    "                  num_boost_round=500, verbose_eval=10,\n",
    "                  evals=watchlist)"
   ]
  },
  {
   "cell_type": "code",
   "execution_count": 129,
   "metadata": {},
   "outputs": [
    {
     "name": "stdout",
     "output_type": "stream",
     "text": [
      "0.81878\n",
      "(0.81878, 25)\n"
     ]
    }
   ],
   "source": [
    "tree, _, aucs_val_eta_01 = parse_xgb_output(output)\n",
    "print(max(aucs_val_eta_01))\n",
    "print(max(zip(aucs_val_eta_01, tree)))"
   ]
  },
  {
   "cell_type": "code",
   "execution_count": 131,
   "metadata": {},
   "outputs": [],
   "source": [
    "xgb_params = {\n",
    "    'eta': 0.05,\n",
    "    'max_depth': 6,\n",
    "    'min_child_weight': 1,\n",
    "\n",
    "    'objective': 'binary:logistic',\n",
    "    'eval_metric': 'auc',\n",
    "    'nthread': 8,\n",
    "    'seed': 1,\n",
    "}\n",
    "\n",
    "model = xgb.train(xgb_params, dtrain,\n",
    "                  num_boost_round=5)"
   ]
  },
  {
   "cell_type": "code",
   "execution_count": 132,
   "metadata": {},
   "outputs": [
    {
     "name": "stdout",
     "output_type": "stream",
     "text": [
      "0.81878\n",
      "(0.81878, 25)\n"
     ]
    }
   ],
   "source": [
    "tree, _, aucs_val_eta_005 = parse_xgb_output(output)\n",
    "print(max(aucs_val_eta_005))\n",
    "print(max(zip(aucs_val_eta_005, tree)))"
   ]
  },
  {
   "cell_type": "code",
   "execution_count": 133,
   "metadata": {},
   "outputs": [
    {
     "name": "stdout",
     "output_type": "stream",
     "text": [
      "[0]\ttrain-auc:0.86300\tval-auc:0.76818\n",
      "[10]\ttrain-auc:0.87041\tval-auc:0.77142\n",
      "[20]\ttrain-auc:0.87541\tval-auc:0.77526\n",
      "[30]\ttrain-auc:0.88162\tval-auc:0.78368\n",
      "[40]\ttrain-auc:0.88649\tval-auc:0.79003\n",
      "[50]\ttrain-auc:0.89299\tval-auc:0.79683\n",
      "[60]\ttrain-auc:0.90034\tval-auc:0.80122\n",
      "[70]\ttrain-auc:0.90369\tval-auc:0.79970\n",
      "[80]\ttrain-auc:0.90733\tval-auc:0.80142\n",
      "[90]\ttrain-auc:0.91069\tval-auc:0.80236\n",
      "[100]\ttrain-auc:0.91428\tval-auc:0.80422\n",
      "[110]\ttrain-auc:0.91759\tval-auc:0.80570\n",
      "[120]\ttrain-auc:0.92010\tval-auc:0.80677\n",
      "[130]\ttrain-auc:0.92232\tval-auc:0.80670\n",
      "[140]\ttrain-auc:0.92467\tval-auc:0.80763\n",
      "[150]\ttrain-auc:0.92709\tval-auc:0.80890\n",
      "[160]\ttrain-auc:0.92901\tval-auc:0.80953\n",
      "[170]\ttrain-auc:0.93061\tval-auc:0.81025\n",
      "[180]\ttrain-auc:0.93220\tval-auc:0.81088\n",
      "[190]\ttrain-auc:0.93439\tval-auc:0.81105\n",
      "[200]\ttrain-auc:0.93669\tval-auc:0.81131\n",
      "[210]\ttrain-auc:0.93839\tval-auc:0.81200\n",
      "[220]\ttrain-auc:0.93986\tval-auc:0.81240\n",
      "[230]\ttrain-auc:0.94164\tval-auc:0.81265\n",
      "[240]\ttrain-auc:0.94332\tval-auc:0.81367\n",
      "[250]\ttrain-auc:0.94474\tval-auc:0.81398\n",
      "[260]\ttrain-auc:0.94619\tval-auc:0.81463\n",
      "[270]\ttrain-auc:0.94769\tval-auc:0.81503\n",
      "[280]\ttrain-auc:0.94883\tval-auc:0.81485\n",
      "[290]\ttrain-auc:0.95007\tval-auc:0.81559\n",
      "[300]\ttrain-auc:0.95127\tval-auc:0.81543\n",
      "[310]\ttrain-auc:0.95238\tval-auc:0.81585\n",
      "[320]\ttrain-auc:0.95341\tval-auc:0.81602\n",
      "[330]\ttrain-auc:0.95459\tval-auc:0.81604\n",
      "[340]\ttrain-auc:0.95560\tval-auc:0.81639\n",
      "[350]\ttrain-auc:0.95650\tval-auc:0.81622\n",
      "[360]\ttrain-auc:0.95737\tval-auc:0.81668\n",
      "[370]\ttrain-auc:0.95817\tval-auc:0.81725\n",
      "[380]\ttrain-auc:0.95928\tval-auc:0.81743\n",
      "[390]\ttrain-auc:0.96027\tval-auc:0.81768\n",
      "[400]\ttrain-auc:0.96118\tval-auc:0.81837\n",
      "[410]\ttrain-auc:0.96212\tval-auc:0.81876\n",
      "[420]\ttrain-auc:0.96304\tval-auc:0.81902\n",
      "[430]\ttrain-auc:0.96388\tval-auc:0.81931\n",
      "[440]\ttrain-auc:0.96452\tval-auc:0.81966\n",
      "[450]\ttrain-auc:0.96517\tval-auc:0.81988\n",
      "[460]\ttrain-auc:0.96586\tval-auc:0.82001\n",
      "[470]\ttrain-auc:0.96659\tval-auc:0.82024\n",
      "[480]\ttrain-auc:0.96723\tval-auc:0.82070\n",
      "[490]\ttrain-auc:0.96773\tval-auc:0.82124\n",
      "[499]\ttrain-auc:0.96815\tval-auc:0.82168\n"
     ]
    }
   ],
   "source": [
    "xgb_params = {\n",
    "    'eta': 0.01,\n",
    "    'max_depth': 6,\n",
    "    'min_child_weight': 1,\n",
    "\n",
    "    'objective': 'binary:logistic',\n",
    "    'eval_metric': 'auc',\n",
    "    'nthread': 8,\n",
    "    'seed': 1,\n",
    "}\n",
    "\n",
    "model = xgb.train(xgb_params, dtrain,\n",
    "                  num_boost_round=500, verbose_eval=10,\n",
    "                  evals=watchlist)"
   ]
  },
  {
   "cell_type": "code",
   "execution_count": 134,
   "metadata": {},
   "outputs": [
    {
     "name": "stdout",
     "output_type": "stream",
     "text": [
      "0.81878\n",
      "(0.81878, 25)\n"
     ]
    }
   ],
   "source": [
    "tree, _, aucs_val_eta_001 = parse_xgb_output(output)\n",
    "print(max(aucs_val_eta_001))\n",
    "print(max(zip(aucs_val_eta_001, tree)))"
   ]
  },
  {
   "cell_type": "code",
   "execution_count": 135,
   "metadata": {},
   "outputs": [
    {
     "data": {
      "image/png": "[encoded data removed]",
      "text/plain": [
       "<Figure size 432x288 with 1 Axes>"
      ]
     },
     "metadata": {
      "needs_background": "light"
     },
     "output_type": "display_data"
    }
   ],
   "source": [
    "plt.figure(figsize=(6, 4))\n",
    "\n",
    "plt.plot(tree, aucs_val_eta_03, color='black', linestyle='solid', label='eta=0.3')\n",
    "plt.plot(tree, aucs_val_eta_01, color='black', linestyle='dashed', label='eta=0.1')\n",
    "# plt.plot(tree, aucs_val_eta_005, color='grey', linestyle='solid', label='eta=0.05')\n",
    "# plt.plot(tree, aucs_val_eta_001, color='grey', linestyle='dashed', label='eta=0.01')\n",
    "\n",
    "plt.xticks(range(0, 501, 100))\n",
    "\n",
    "plt.legend()\n",
    "\n",
    "plt.title('The effect of eta on model performance')\n",
    "plt.xlabel('Number of trees')\n",
    "plt.ylabel('AUC (validation)')\n",
    "\n",
    "# plt.savefig('ch06-figures/06_xgb_eta.svg')\n",
    "\n",
    "plt.show()"
   ]
  },
  {
   "cell_type": "code",
   "execution_count": 136,
   "metadata": {},
   "outputs": [
    {
     "data": {
      "image/png": "[encoded data removed]",
      "text/plain": [
       "<Figure size 432x288 with 1 Axes>"
      ]
     },
     "metadata": {
      "needs_background": "light"
     },
     "output_type": "display_data"
    }
   ],
   "source": [
    "plt.figure(figsize=(6, 4))\n",
    "\n",
    "plt.plot(tree, aucs_val_eta_01, color='grey', linestyle='dashed', label='eta=0.1')\n",
    "plt.plot(tree, aucs_val_eta_005, color='black', linestyle='solid', label='eta=0.05')\n",
    "plt.plot(tree, aucs_val_eta_001, color='black', linestyle='dashed', label='eta=0.01')\n",
    "\n",
    "plt.xticks(range(0, 501, 100))\n",
    "\n",
    "plt.legend()\n",
    "\n",
    "plt.title('The effect of eta on model performance')\n",
    "plt.xlabel('Number of trees')\n",
    "plt.ylabel('AUC (validation)')\n",
    "\n",
    "# plt.savefig('ch06-figures/06_xgb_eta_2.svg')\n",
    "\n",
    "plt.show()"
   ]
  },
  {
   "cell_type": "code",
   "execution_count": 137,
   "metadata": {},
   "outputs": [
    {
     "name": "stdout",
     "output_type": "stream",
     "text": [
      "[0]\ttrain-auc:0.77424\tval-auc:0.73571\n",
      "[10]\ttrain-auc:0.84733\tval-auc:0.78964\n",
      "[20]\ttrain-auc:0.86359\tval-auc:0.80617\n",
      "[30]\ttrain-auc:0.87855\tval-auc:0.81478\n",
      "[40]\ttrain-auc:0.88701\tval-auc:0.81990\n",
      "[50]\ttrain-auc:0.89458\tval-auc:0.82595\n",
      "[60]\ttrain-auc:0.90159\tval-auc:0.82807\n",
      "[70]\ttrain-auc:0.90650\tval-auc:0.82801\n",
      "[80]\ttrain-auc:0.91110\tval-auc:0.82940\n",
      "[90]\ttrain-auc:0.91428\tval-auc:0.82997\n",
      "[100]\ttrain-auc:0.91801\tval-auc:0.83221\n",
      "[110]\ttrain-auc:0.92205\tval-auc:0.83290\n",
      "[120]\ttrain-auc:0.92460\tval-auc:0.83285\n",
      "[130]\ttrain-auc:0.92843\tval-auc:0.83414\n",
      "[140]\ttrain-auc:0.93100\tval-auc:0.83463\n",
      "[150]\ttrain-auc:0.93296\tval-auc:0.83525\n",
      "[160]\ttrain-auc:0.93551\tval-auc:0.83554\n",
      "[170]\ttrain-auc:0.93788\tval-auc:0.83638\n",
      "[180]\ttrain-auc:0.93971\tval-auc:0.83657\n",
      "[190]\ttrain-auc:0.94203\tval-auc:0.83562\n",
      "[200]\ttrain-auc:0.94334\tval-auc:0.83512\n",
      "[210]\ttrain-auc:0.94501\tval-auc:0.83546\n",
      "[220]\ttrain-auc:0.94693\tval-auc:0.83508\n",
      "[230]\ttrain-auc:0.94839\tval-auc:0.83417\n",
      "[240]\ttrain-auc:0.94999\tval-auc:0.83336\n",
      "[250]\ttrain-auc:0.95088\tval-auc:0.83341\n",
      "[260]\ttrain-auc:0.95235\tval-auc:0.83379\n",
      "[270]\ttrain-auc:0.95333\tval-auc:0.83389\n",
      "[280]\ttrain-auc:0.95470\tval-auc:0.83288\n",
      "[290]\ttrain-auc:0.95576\tval-auc:0.83274\n",
      "[300]\ttrain-auc:0.95733\tval-auc:0.83173\n",
      "[310]\ttrain-auc:0.95886\tval-auc:0.83222\n",
      "[320]\ttrain-auc:0.95972\tval-auc:0.83201\n",
      "[330]\ttrain-auc:0.96091\tval-auc:0.83139\n",
      "[340]\ttrain-auc:0.96172\tval-auc:0.83101\n",
      "[350]\ttrain-auc:0.96298\tval-auc:0.83059\n",
      "[360]\ttrain-auc:0.96416\tval-auc:0.83034\n",
      "[370]\ttrain-auc:0.96539\tval-auc:0.82945\n",
      "[380]\ttrain-auc:0.96669\tval-auc:0.82905\n",
      "[390]\ttrain-auc:0.96785\tval-auc:0.82876\n",
      "[400]\ttrain-auc:0.96876\tval-auc:0.82846\n",
      "[410]\ttrain-auc:0.96983\tval-auc:0.82744\n",
      "[420]\ttrain-auc:0.97055\tval-auc:0.82764\n",
      "[430]\ttrain-auc:0.97115\tval-auc:0.82695\n",
      "[440]\ttrain-auc:0.97213\tval-auc:0.82659\n",
      "[450]\ttrain-auc:0.97303\tval-auc:0.82662\n",
      "[460]\ttrain-auc:0.97357\tval-auc:0.82642\n",
      "[470]\ttrain-auc:0.97421\tval-auc:0.82591\n",
      "[480]\ttrain-auc:0.97497\tval-auc:0.82635\n",
      "[490]\ttrain-auc:0.97576\tval-auc:0.82604\n",
      "[499]\ttrain-auc:0.97642\tval-auc:0.82599\n"
     ]
    }
   ],
   "source": [
    "xgb_params = {\n",
    "    'eta': 0.1,\n",
    "    'max_depth': 3,\n",
    "    'min_child_weight': 1,\n",
    "\n",
    "    'objective': 'binary:logistic',\n",
    "    'eval_metric': 'auc',\n",
    "    'nthread': 8,\n",
    "    'seed': 1,\n",
    "}\n",
    "\n",
    "model = xgb.train(xgb_params, dtrain,\n",
    "                  num_boost_round=500, verbose_eval=10,\n",
    "                  evals=watchlist)"
   ]
  },
  {
   "cell_type": "code",
   "execution_count": 138,
   "metadata": {},
   "outputs": [
    {
     "name": "stdout",
     "output_type": "stream",
     "text": [
      "0.81878\n",
      "(0.81878, 25)\n"
     ]
    }
   ],
   "source": [
    "tree, _, aucs_val_depth3 = parse_xgb_output(output)\n",
    "print(max(aucs_val_depth3))\n",
    "print(max(zip(aucs_val_depth3, tree)))"
   ]
  },
  {
   "cell_type": "code",
   "execution_count": 139,
   "metadata": {},
   "outputs": [
    {
     "name": "stdout",
     "output_type": "stream",
     "text": [
      "[0]\ttrain-auc:0.91622\tval-auc:0.76613\n",
      "[10]\ttrain-auc:0.97570\tval-auc:0.81168\n",
      "[20]\ttrain-auc:0.99108\tval-auc:0.80901\n",
      "[30]\ttrain-auc:0.99741\tval-auc:0.80641\n",
      "[40]\ttrain-auc:0.99922\tval-auc:0.81045\n",
      "[50]\ttrain-auc:0.99980\tval-auc:0.81009\n",
      "[60]\ttrain-auc:0.99996\tval-auc:0.81102\n",
      "[70]\ttrain-auc:0.99999\tval-auc:0.81013\n",
      "[80]\ttrain-auc:1.00000\tval-auc:0.80991\n",
      "[90]\ttrain-auc:1.00000\tval-auc:0.81114\n",
      "[100]\ttrain-auc:1.00000\tval-auc:0.81169\n",
      "[110]\ttrain-auc:1.00000\tval-auc:0.81056\n",
      "[120]\ttrain-auc:1.00000\tval-auc:0.81076\n",
      "[130]\ttrain-auc:1.00000\tval-auc:0.81117\n",
      "[140]\ttrain-auc:1.00000\tval-auc:0.81065\n",
      "[150]\ttrain-auc:1.00000\tval-auc:0.81078\n",
      "[160]\ttrain-auc:1.00000\tval-auc:0.81108\n",
      "[170]\ttrain-auc:1.00000\tval-auc:0.81091\n",
      "[180]\ttrain-auc:1.00000\tval-auc:0.81051\n",
      "[190]\ttrain-auc:1.00000\tval-auc:0.81040\n",
      "[200]\ttrain-auc:1.00000\tval-auc:0.81097\n",
      "[210]\ttrain-auc:1.00000\tval-auc:0.81068\n",
      "[220]\ttrain-auc:1.00000\tval-auc:0.81028\n",
      "[230]\ttrain-auc:1.00000\tval-auc:0.80984\n",
      "[240]\ttrain-auc:1.00000\tval-auc:0.81012\n",
      "[250]\ttrain-auc:1.00000\tval-auc:0.80987\n",
      "[260]\ttrain-auc:1.00000\tval-auc:0.80966\n",
      "[270]\ttrain-auc:1.00000\tval-auc:0.80972\n",
      "[280]\ttrain-auc:1.00000\tval-auc:0.80959\n",
      "[290]\ttrain-auc:1.00000\tval-auc:0.80905\n",
      "[300]\ttrain-auc:1.00000\tval-auc:0.80918\n",
      "[310]\ttrain-auc:1.00000\tval-auc:0.80881\n",
      "[320]\ttrain-auc:1.00000\tval-auc:0.80873\n",
      "[330]\ttrain-auc:1.00000\tval-auc:0.80827\n",
      "[340]\ttrain-auc:1.00000\tval-auc:0.80835\n",
      "[350]\ttrain-auc:1.00000\tval-auc:0.80853\n",
      "[360]\ttrain-auc:1.00000\tval-auc:0.80837\n",
      "[370]\ttrain-auc:1.00000\tval-auc:0.80836\n",
      "[380]\ttrain-auc:1.00000\tval-auc:0.80828\n",
      "[390]\ttrain-auc:1.00000\tval-auc:0.80745\n",
      "[400]\ttrain-auc:1.00000\tval-auc:0.80778\n",
      "[410]\ttrain-auc:1.00000\tval-auc:0.80718\n",
      "[420]\ttrain-auc:1.00000\tval-auc:0.80745\n",
      "[430]\ttrain-auc:1.00000\tval-auc:0.80724\n",
      "[440]\ttrain-auc:1.00000\tval-auc:0.80701\n",
      "[450]\ttrain-auc:1.00000\tval-auc:0.80719\n",
      "[460]\ttrain-auc:1.00000\tval-auc:0.80695\n",
      "[470]\ttrain-auc:1.00000\tval-auc:0.80665\n",
      "[480]\ttrain-auc:1.00000\tval-auc:0.80687\n",
      "[490]\ttrain-auc:1.00000\tval-auc:0.80693\n",
      "[499]\ttrain-auc:1.00000\tval-auc:0.80650\n"
     ]
    }
   ],
   "source": [
    "xgb_params = {\n",
    "    'eta': 0.1,\n",
    "    'max_depth': 10,\n",
    "    'min_child_weight': 1,\n",
    "\n",
    "    'objective': 'binary:logistic',\n",
    "    'eval_metric': 'auc',\n",
    "    'nthread': 8,\n",
    "    'seed': 1,\n",
    "}\n",
    "\n",
    "model = xgb.train(xgb_params, dtrain,\n",
    "                  num_boost_round=500, verbose_eval=10,\n",
    "                  evals=watchlist)"
   ]
  },
  {
   "cell_type": "code",
   "execution_count": 140,
   "metadata": {},
   "outputs": [
    {
     "name": "stdout",
     "output_type": "stream",
     "text": [
      "0.81878\n",
      "(0.81878, 25)\n"
     ]
    }
   ],
   "source": [
    "tree, _, aucs_val_depth10 = parse_xgb_output(output)\n",
    "print(max(aucs_val))\n",
    "print(max(zip(aucs_val_depth10, tree)))"
   ]
  },
  {
   "cell_type": "code",
   "execution_count": 141,
   "metadata": {},
   "outputs": [
    {
     "name": "stdout",
     "output_type": "stream",
     "text": [
      "[0]\ttrain-auc:0.81652\tval-auc:0.75844\n",
      "[10]\ttrain-auc:0.86333\tval-auc:0.79530\n",
      "[20]\ttrain-auc:0.88442\tval-auc:0.80830\n",
      "[30]\ttrain-auc:0.90018\tval-auc:0.81708\n",
      "[40]\ttrain-auc:0.90995\tval-auc:0.82163\n",
      "[50]\ttrain-auc:0.92094\tval-auc:0.82500\n",
      "[60]\ttrain-auc:0.92759\tval-auc:0.82665\n",
      "[70]\ttrain-auc:0.93380\tval-auc:0.82870\n",
      "[80]\ttrain-auc:0.93758\tval-auc:0.83014\n",
      "[90]\ttrain-auc:0.94209\tval-auc:0.82977\n",
      "[100]\ttrain-auc:0.94710\tval-auc:0.82991\n",
      "[110]\ttrain-auc:0.95027\tval-auc:0.82929\n",
      "[120]\ttrain-auc:0.95322\tval-auc:0.82871\n",
      "[130]\ttrain-auc:0.95579\tval-auc:0.82835\n",
      "[140]\ttrain-auc:0.95869\tval-auc:0.82845\n",
      "[150]\ttrain-auc:0.96180\tval-auc:0.82869\n",
      "[160]\ttrain-auc:0.96473\tval-auc:0.82894\n",
      "[170]\ttrain-auc:0.96706\tval-auc:0.82889\n",
      "[180]\ttrain-auc:0.96882\tval-auc:0.82837\n",
      "[190]\ttrain-auc:0.97014\tval-auc:0.82810\n",
      "[200]\ttrain-auc:0.97301\tval-auc:0.82727\n",
      "[210]\ttrain-auc:0.97469\tval-auc:0.82599\n",
      "[220]\ttrain-auc:0.97644\tval-auc:0.82469\n",
      "[230]\ttrain-auc:0.97835\tval-auc:0.82445\n",
      "[240]\ttrain-auc:0.97972\tval-auc:0.82326\n",
      "[250]\ttrain-auc:0.98102\tval-auc:0.82232\n",
      "[260]\ttrain-auc:0.98249\tval-auc:0.82241\n",
      "[270]\ttrain-auc:0.98387\tval-auc:0.82235\n",
      "[280]\ttrain-auc:0.98477\tval-auc:0.82209\n",
      "[290]\ttrain-auc:0.98587\tval-auc:0.82166\n",
      "[300]\ttrain-auc:0.98700\tval-auc:0.82171\n",
      "[310]\ttrain-auc:0.98807\tval-auc:0.82073\n",
      "[320]\ttrain-auc:0.98879\tval-auc:0.82069\n",
      "[330]\ttrain-auc:0.98971\tval-auc:0.82044\n",
      "[340]\ttrain-auc:0.99046\tval-auc:0.82022\n",
      "[350]\ttrain-auc:0.99123\tval-auc:0.81900\n",
      "[360]\ttrain-auc:0.99171\tval-auc:0.81881\n",
      "[370]\ttrain-auc:0.99230\tval-auc:0.81867\n",
      "[380]\ttrain-auc:0.99299\tval-auc:0.81782\n",
      "[390]\ttrain-auc:0.99365\tval-auc:0.81656\n",
      "[400]\ttrain-auc:0.99429\tval-auc:0.81615\n",
      "[410]\ttrain-auc:0.99483\tval-auc:0.81560\n",
      "[420]\ttrain-auc:0.99514\tval-auc:0.81548\n",
      "[430]\ttrain-auc:0.99550\tval-auc:0.81525\n",
      "[440]\ttrain-auc:0.99584\tval-auc:0.81458\n",
      "[450]\ttrain-auc:0.99628\tval-auc:0.81373\n",
      "[460]\ttrain-auc:0.99655\tval-auc:0.81289\n",
      "[470]\ttrain-auc:0.99679\tval-auc:0.81254\n",
      "[480]\ttrain-auc:0.99703\tval-auc:0.81300\n",
      "[490]\ttrain-auc:0.99725\tval-auc:0.81280\n",
      "[499]\ttrain-auc:0.99749\tval-auc:0.81240\n"
     ]
    }
   ],
   "source": [
    "xgb_params = {\n",
    "    'eta': 0.1,\n",
    "    'max_depth': 4,\n",
    "    'min_child_weight': 1,\n",
    "\n",
    "    'objective': 'binary:logistic',\n",
    "    'eval_metric': 'auc',\n",
    "    'nthread': 8,\n",
    "    'seed': 1,\n",
    "}\n",
    "\n",
    "model = xgb.train(xgb_params, dtrain,\n",
    "                  num_boost_round=500, verbose_eval=10,\n",
    "                  evals=watchlist)"
   ]
  },
  {
   "cell_type": "code",
   "execution_count": 142,
   "metadata": {},
   "outputs": [
    {
     "name": "stdout",
     "output_type": "stream",
     "text": [
      "0.81878\n",
      "(0.81878, 25)\n"
     ]
    }
   ],
   "source": [
    "tree, _, aucs_val_depth4 = parse_xgb_output(output)\n",
    "print(max(aucs_val_depth4))\n",
    "print(max(zip(aucs_val_depth4, tree)))"
   ]
  },
  {
   "cell_type": "code",
   "execution_count": 143,
   "metadata": {},
   "outputs": [
    {
     "data": {
      "image/png": "[encoded data removed]",
      "text/plain": [
       "<Figure size 432x288 with 1 Axes>"
      ]
     },
     "metadata": {
      "needs_background": "light"
     },
     "output_type": "display_data"
    }
   ],
   "source": [
    "plt.figure(figsize=(6, 4))\n",
    "\n",
    "plt.plot(tree, aucs_val_depth3, color='black', linestyle='dashed', label='max_depth=3')\n",
    "plt.plot(tree, aucs_val_depth4, color='grey', linestyle='dashed', label='max_depth=4')\n",
    "plt.plot(tree, aucs_val_eta_01, color='black', linestyle='solid', label='max_depth=6')\n",
    "plt.plot(tree, aucs_val_depth10, color='grey', linestyle='solid', label='max_depth=10')\n",
    "\n",
    "plt.ylim(0.75, 0.845)\n",
    "plt.xlim(-10, 510)\n",
    "plt.xticks(range(0, 501, 100))\n",
    "\n",
    "plt.legend()\n",
    "\n",
    "plt.title('The effect of max_depth on model performance')\n",
    "plt.xlabel('Number of trees')\n",
    "plt.ylabel('AUC (validation)')\n",
    "\n",
    "# plt.savefig('ch06-figures/06_xgb_depth.svg')\n",
    "\n",
    "plt.show()"
   ]
  },
  {
   "cell_type": "code",
   "execution_count": 144,
   "metadata": {},
   "outputs": [
    {
     "name": "stdout",
     "output_type": "stream",
     "text": [
      "[0]\ttrain-auc:0.77424\tval-auc:0.73571\n",
      "[10]\ttrain-auc:0.84733\tval-auc:0.78964\n",
      "[20]\ttrain-auc:0.86359\tval-auc:0.80617\n",
      "[30]\ttrain-auc:0.87855\tval-auc:0.81478\n",
      "[40]\ttrain-auc:0.88701\tval-auc:0.81990\n",
      "[50]\ttrain-auc:0.89458\tval-auc:0.82595\n",
      "[60]\ttrain-auc:0.90159\tval-auc:0.82807\n",
      "[70]\ttrain-auc:0.90650\tval-auc:0.82801\n",
      "[80]\ttrain-auc:0.91110\tval-auc:0.82940\n",
      "[90]\ttrain-auc:0.91428\tval-auc:0.82997\n",
      "[100]\ttrain-auc:0.91801\tval-auc:0.83221\n",
      "[110]\ttrain-auc:0.92205\tval-auc:0.83290\n",
      "[120]\ttrain-auc:0.92460\tval-auc:0.83285\n",
      "[130]\ttrain-auc:0.92843\tval-auc:0.83414\n",
      "[140]\ttrain-auc:0.93100\tval-auc:0.83463\n",
      "[150]\ttrain-auc:0.93296\tval-auc:0.83525\n",
      "[160]\ttrain-auc:0.93551\tval-auc:0.83554\n",
      "[170]\ttrain-auc:0.93788\tval-auc:0.83638\n",
      "[180]\ttrain-auc:0.93971\tval-auc:0.83657\n",
      "[190]\ttrain-auc:0.94203\tval-auc:0.83562\n",
      "[200]\ttrain-auc:0.94334\tval-auc:0.83512\n",
      "[210]\ttrain-auc:0.94501\tval-auc:0.83546\n",
      "[220]\ttrain-auc:0.94693\tval-auc:0.83508\n",
      "[230]\ttrain-auc:0.94839\tval-auc:0.83417\n",
      "[240]\ttrain-auc:0.94999\tval-auc:0.83336\n",
      "[250]\ttrain-auc:0.95088\tval-auc:0.83341\n",
      "[260]\ttrain-auc:0.95235\tval-auc:0.83379\n",
      "[270]\ttrain-auc:0.95333\tval-auc:0.83389\n",
      "[280]\ttrain-auc:0.95470\tval-auc:0.83288\n",
      "[290]\ttrain-auc:0.95576\tval-auc:0.83274\n",
      "[300]\ttrain-auc:0.95733\tval-auc:0.83173\n",
      "[310]\ttrain-auc:0.95886\tval-auc:0.83222\n",
      "[320]\ttrain-auc:0.95972\tval-auc:0.83201\n",
      "[330]\ttrain-auc:0.96091\tval-auc:0.83139\n",
      "[340]\ttrain-auc:0.96172\tval-auc:0.83101\n",
      "[350]\ttrain-auc:0.96298\tval-auc:0.83059\n",
      "[360]\ttrain-auc:0.96416\tval-auc:0.83034\n",
      "[370]\ttrain-auc:0.96539\tval-auc:0.82945\n",
      "[380]\ttrain-auc:0.96669\tval-auc:0.82905\n",
      "[390]\ttrain-auc:0.96785\tval-auc:0.82876\n",
      "[400]\ttrain-auc:0.96876\tval-auc:0.82846\n",
      "[410]\ttrain-auc:0.96983\tval-auc:0.82744\n",
      "[420]\ttrain-auc:0.97055\tval-auc:0.82764\n",
      "[430]\ttrain-auc:0.97115\tval-auc:0.82695\n",
      "[440]\ttrain-auc:0.97213\tval-auc:0.82659\n",
      "[450]\ttrain-auc:0.97303\tval-auc:0.82662\n",
      "[460]\ttrain-auc:0.97357\tval-auc:0.82642\n",
      "[470]\ttrain-auc:0.97421\tval-auc:0.82591\n",
      "[480]\ttrain-auc:0.97497\tval-auc:0.82635\n",
      "[490]\ttrain-auc:0.97576\tval-auc:0.82604\n",
      "[499]\ttrain-auc:0.97642\tval-auc:0.82599\n"
     ]
    }
   ],
   "source": [
    "xgb_params = {\n",
    "    'eta': 0.1,\n",
    "    'max_depth': 3,\n",
    "    'min_child_weight': 1,\n",
    "\n",
    "    'objective': 'binary:logistic',\n",
    "    'eval_metric': 'auc',\n",
    "    'nthread': 8,\n",
    "    'seed': 1,\n",
    "}\n",
    "\n",
    "model = xgb.train(xgb_params, dtrain,\n",
    "                  num_boost_round=500, verbose_eval=10,\n",
    "                  evals=watchlist)"
   ]
  },
  {
   "cell_type": "code",
   "execution_count": 145,
   "metadata": {},
   "outputs": [
    {
     "name": "stdout",
     "output_type": "stream",
     "text": [
      "0.81878\n",
      "(0.81878, 25)\n"
     ]
    }
   ],
   "source": [
    "tree, _, aucs_val_mcw1 = parse_xgb_output(output)\n",
    "print(max(aucs_val_mcw1))\n",
    "print(max(zip(aucs_val_mcw1, tree)))"
   ]
  },
  {
   "cell_type": "code",
   "execution_count": 146,
   "metadata": {},
   "outputs": [
    {
     "name": "stdout",
     "output_type": "stream",
     "text": [
      "[0]\ttrain-auc:0.77424\tval-auc:0.73571\n",
      "[10]\ttrain-auc:0.84393\tval-auc:0.78899\n",
      "[20]\ttrain-auc:0.86444\tval-auc:0.80769\n",
      "[30]\ttrain-auc:0.87627\tval-auc:0.81576\n",
      "[40]\ttrain-auc:0.88412\tval-auc:0.81942\n",
      "[50]\ttrain-auc:0.88952\tval-auc:0.82252\n",
      "[60]\ttrain-auc:0.89401\tval-auc:0.82514\n",
      "[70]\ttrain-auc:0.89808\tval-auc:0.82811\n",
      "[80]\ttrain-auc:0.90190\tval-auc:0.82885\n",
      "[90]\ttrain-auc:0.90432\tval-auc:0.82988\n",
      "[100]\ttrain-auc:0.90632\tval-auc:0.83130\n",
      "[110]\ttrain-auc:0.90907\tval-auc:0.83165\n",
      "[120]\ttrain-auc:0.91084\tval-auc:0.83210\n",
      "[130]\ttrain-auc:0.91266\tval-auc:0.83244\n",
      "[140]\ttrain-auc:0.91460\tval-auc:0.83288\n",
      "[150]\ttrain-auc:0.91656\tval-auc:0.83336\n",
      "[160]\ttrain-auc:0.91858\tval-auc:0.83277\n",
      "[170]\ttrain-auc:0.92043\tval-auc:0.83244\n",
      "[180]\ttrain-auc:0.92181\tval-auc:0.83316\n",
      "[190]\ttrain-auc:0.92326\tval-auc:0.83236\n",
      "[200]\ttrain-auc:0.92486\tval-auc:0.83133\n",
      "[210]\ttrain-auc:0.92641\tval-auc:0.83150\n",
      "[220]\ttrain-auc:0.92774\tval-auc:0.83188\n",
      "[230]\ttrain-auc:0.92892\tval-auc:0.83132\n",
      "[240]\ttrain-auc:0.93013\tval-auc:0.83082\n",
      "[250]\ttrain-auc:0.93136\tval-auc:0.83082\n",
      "[260]\ttrain-auc:0.93238\tval-auc:0.83004\n",
      "[270]\ttrain-auc:0.93326\tval-auc:0.82948\n",
      "[280]\ttrain-auc:0.93413\tval-auc:0.82972\n",
      "[290]\ttrain-auc:0.93551\tval-auc:0.82917\n",
      "[300]\ttrain-auc:0.93664\tval-auc:0.82974\n",
      "[310]\ttrain-auc:0.93749\tval-auc:0.82924\n",
      "[320]\ttrain-auc:0.93842\tval-auc:0.82896\n",
      "[330]\ttrain-auc:0.93922\tval-auc:0.82888\n",
      "[340]\ttrain-auc:0.94053\tval-auc:0.82800\n",
      "[350]\ttrain-auc:0.94154\tval-auc:0.82786\n",
      "[360]\ttrain-auc:0.94265\tval-auc:0.82664\n",
      "[370]\ttrain-auc:0.94403\tval-auc:0.82651\n",
      "[380]\ttrain-auc:0.94493\tval-auc:0.82596\n",
      "[390]\ttrain-auc:0.94595\tval-auc:0.82567\n",
      "[400]\ttrain-auc:0.94651\tval-auc:0.82569\n",
      "[410]\ttrain-auc:0.94762\tval-auc:0.82493\n",
      "[420]\ttrain-auc:0.94831\tval-auc:0.82521\n",
      "[430]\ttrain-auc:0.94909\tval-auc:0.82512\n",
      "[440]\ttrain-auc:0.94976\tval-auc:0.82522\n",
      "[450]\ttrain-auc:0.95045\tval-auc:0.82477\n",
      "[460]\ttrain-auc:0.95133\tval-auc:0.82410\n",
      "[470]\ttrain-auc:0.95205\tval-auc:0.82360\n",
      "[480]\ttrain-auc:0.95282\tval-auc:0.82270\n",
      "[490]\ttrain-auc:0.95358\tval-auc:0.82271\n",
      "[499]\ttrain-auc:0.95432\tval-auc:0.82249\n"
     ]
    }
   ],
   "source": [
    "xgb_params = {\n",
    "    'eta': 0.1,\n",
    "    'max_depth': 3,\n",
    "    'min_child_weight': 10,\n",
    "\n",
    "    'objective': 'binary:logistic',\n",
    "    'eval_metric': 'auc',\n",
    "    'nthread': 8,\n",
    "    'seed': 1,\n",
    "}\n",
    "\n",
    "model = xgb.train(xgb_params, dtrain,\n",
    "                  num_boost_round=500, verbose_eval=10,\n",
    "                  evals=watchlist)"
   ]
  },
  {
   "cell_type": "code",
   "execution_count": 147,
   "metadata": {},
   "outputs": [
    {
     "name": "stdout",
     "output_type": "stream",
     "text": [
      "0.81878\n",
      "(0.81878, 25)\n"
     ]
    }
   ],
   "source": [
    "tree, _, aucs_val_mcw10 = parse_xgb_output(output)\n",
    "print(max(aucs_val_mcw10))\n",
    "print(max(zip(aucs_val_mcw10, tree)))"
   ]
  },
  {
   "cell_type": "code",
   "execution_count": 148,
   "metadata": {},
   "outputs": [
    {
     "name": "stdout",
     "output_type": "stream",
     "text": [
      "[0]\ttrain-auc:0.76588\tval-auc:0.73459\n",
      "[10]\ttrain-auc:0.83603\tval-auc:0.78479\n",
      "[20]\ttrain-auc:0.85758\tval-auc:0.80196\n",
      "[30]\ttrain-auc:0.87037\tval-auc:0.81556\n",
      "[40]\ttrain-auc:0.87717\tval-auc:0.82100\n",
      "[50]\ttrain-auc:0.88124\tval-auc:0.82436\n",
      "[60]\ttrain-auc:0.88472\tval-auc:0.82819\n",
      "[70]\ttrain-auc:0.88691\tval-auc:0.82971\n",
      "[80]\ttrain-auc:0.88894\tval-auc:0.83074\n",
      "[90]\ttrain-auc:0.89163\tval-auc:0.83233\n",
      "[100]\ttrain-auc:0.89334\tval-auc:0.83354\n",
      "[110]\ttrain-auc:0.89534\tval-auc:0.83391\n",
      "[120]\ttrain-auc:0.89678\tval-auc:0.83424\n",
      "[130]\ttrain-auc:0.89783\tval-auc:0.83458\n",
      "[140]\ttrain-auc:0.89886\tval-auc:0.83465\n",
      "[150]\ttrain-auc:0.89994\tval-auc:0.83511\n",
      "[160]\ttrain-auc:0.90107\tval-auc:0.83543\n",
      "[170]\ttrain-auc:0.90206\tval-auc:0.83529\n",
      "[180]\ttrain-auc:0.90319\tval-auc:0.83471\n",
      "[190]\ttrain-auc:0.90438\tval-auc:0.83438\n",
      "[200]\ttrain-auc:0.90527\tval-auc:0.83451\n",
      "[210]\ttrain-auc:0.90616\tval-auc:0.83410\n",
      "[220]\ttrain-auc:0.90703\tval-auc:0.83417\n",
      "[230]\ttrain-auc:0.90822\tval-auc:0.83400\n",
      "[240]\ttrain-auc:0.90909\tval-auc:0.83385\n",
      "[250]\ttrain-auc:0.90984\tval-auc:0.83393\n",
      "[260]\ttrain-auc:0.91084\tval-auc:0.83386\n",
      "[270]\ttrain-auc:0.91207\tval-auc:0.83388\n",
      "[280]\ttrain-auc:0.91290\tval-auc:0.83401\n",
      "[290]\ttrain-auc:0.91373\tval-auc:0.83379\n",
      "[300]\ttrain-auc:0.91489\tval-auc:0.83338\n",
      "[310]\ttrain-auc:0.91578\tval-auc:0.83320\n",
      "[320]\ttrain-auc:0.91661\tval-auc:0.83310\n",
      "[330]\ttrain-auc:0.91731\tval-auc:0.83239\n",
      "[340]\ttrain-auc:0.91795\tval-auc:0.83256\n",
      "[350]\ttrain-auc:0.91878\tval-auc:0.83250\n",
      "[360]\ttrain-auc:0.91939\tval-auc:0.83258\n",
      "[370]\ttrain-auc:0.92017\tval-auc:0.83241\n",
      "[380]\ttrain-auc:0.92086\tval-auc:0.83218\n",
      "[390]\ttrain-auc:0.92158\tval-auc:0.83181\n",
      "[400]\ttrain-auc:0.92208\tval-auc:0.83199\n",
      "[410]\ttrain-auc:0.92264\tval-auc:0.83159\n",
      "[420]\ttrain-auc:0.92312\tval-auc:0.83186\n",
      "[430]\ttrain-auc:0.92365\tval-auc:0.83169\n",
      "[440]\ttrain-auc:0.92432\tval-auc:0.83105\n",
      "[450]\ttrain-auc:0.92495\tval-auc:0.83091\n",
      "[460]\ttrain-auc:0.92536\tval-auc:0.83063\n",
      "[470]\ttrain-auc:0.92593\tval-auc:0.83083\n",
      "[480]\ttrain-auc:0.92660\tval-auc:0.83060\n",
      "[490]\ttrain-auc:0.92710\tval-auc:0.83073\n",
      "[499]\ttrain-auc:0.92766\tval-auc:0.83072\n"
     ]
    }
   ],
   "source": [
    "xgb_params = {\n",
    "    'eta': 0.1,\n",
    "    'max_depth': 3,\n",
    "    'min_child_weight': 30,\n",
    "\n",
    "    'objective': 'binary:logistic',\n",
    "    'eval_metric': 'auc',\n",
    "    'nthread': 8,\n",
    "    'seed': 1,\n",
    "}\n",
    "\n",
    "model = xgb.train(xgb_params, dtrain,\n",
    "                  num_boost_round=500, verbose_eval=10,\n",
    "                  evals=watchlist)"
   ]
  },
  {
   "cell_type": "code",
   "execution_count": 149,
   "metadata": {},
   "outputs": [
    {
     "name": "stdout",
     "output_type": "stream",
     "text": [
      "0.81878\n",
      "(0.81878, 25)\n"
     ]
    }
   ],
   "source": [
    "tree, _, aucs_val_mcw30 = parse_xgb_output(output)\n",
    "print(max(aucs_val_mcw30))\n",
    "print(max(zip(aucs_val_mcw30, tree)))"
   ]
  },
  {
   "cell_type": "code",
   "execution_count": 151,
   "metadata": {},
   "outputs": [
    {
     "data": {
      "image/png": "[encoded data removed]",
      "text/plain": [
       "<Figure size 432x288 with 1 Axes>"
      ]
     },
     "metadata": {
      "needs_background": "light"
     },
     "output_type": "display_data"
    }
   ],
   "source": [
    "plt.figure(figsize=(6, 4))\n",
    "\n",
    "plt.plot(tree, aucs_val_mcw1, color='black', linestyle='solid', label='min_child_weight=1')\n",
    "plt.plot(tree, aucs_val_mcw10, color='grey', linestyle='solid', label='min_child_weight=10')\n",
    "plt.plot(tree, aucs_val_mcw30, color='black', linestyle='dashed', label='min_child_weight=30')\n",
    "\n",
    "plt.ylim(0.82, 0.84)\n",
    "plt.xlim(0, 510)\n",
    "plt.xticks(range(0, 501, 100))\n",
    "plt.yticks(np.linspace(0.82, 0.84, 5))\n",
    "\n",
    "plt.legend()\n",
    "\n",
    "plt.title('The effect of min_child_weight on model performance')\n",
    "plt.xlabel('Number of trees')\n",
    "plt.ylabel('AUC (validation)')\n",
    "\n",
    "# plt.savefig('ch06-figures/06_xgb_mcw.svg')\n",
    "\n",
    "plt.show()"
   ]
  },
  {
   "cell_type": "code",
   "execution_count": 152,
   "metadata": {},
   "outputs": [
    {
     "name": "stdout",
     "output_type": "stream",
     "text": [
      "[0]\ttrain-auc:0.77424\tval-auc:0.73571\n",
      "[10]\ttrain-auc:0.84733\tval-auc:0.78964\n",
      "[20]\ttrain-auc:0.86359\tval-auc:0.80617\n",
      "[30]\ttrain-auc:0.87855\tval-auc:0.81478\n",
      "[40]\ttrain-auc:0.88701\tval-auc:0.81990\n",
      "[50]\ttrain-auc:0.89458\tval-auc:0.82595\n",
      "[60]\ttrain-auc:0.90159\tval-auc:0.82807\n",
      "[70]\ttrain-auc:0.90650\tval-auc:0.82801\n",
      "[80]\ttrain-auc:0.91110\tval-auc:0.82940\n",
      "[90]\ttrain-auc:0.91428\tval-auc:0.82997\n",
      "[100]\ttrain-auc:0.91801\tval-auc:0.83221\n",
      "[110]\ttrain-auc:0.92205\tval-auc:0.83290\n",
      "[120]\ttrain-auc:0.92460\tval-auc:0.83285\n",
      "[130]\ttrain-auc:0.92843\tval-auc:0.83414\n",
      "[140]\ttrain-auc:0.93100\tval-auc:0.83463\n",
      "[150]\ttrain-auc:0.93296\tval-auc:0.83525\n",
      "[160]\ttrain-auc:0.93551\tval-auc:0.83554\n",
      "[170]\ttrain-auc:0.93788\tval-auc:0.83638\n",
      "[180]\ttrain-auc:0.93971\tval-auc:0.83657\n",
      "[190]\ttrain-auc:0.94203\tval-auc:0.83562\n",
      "[200]\ttrain-auc:0.94334\tval-auc:0.83512\n",
      "[210]\ttrain-auc:0.94501\tval-auc:0.83546\n",
      "[220]\ttrain-auc:0.94693\tval-auc:0.83508\n",
      "[230]\ttrain-auc:0.94839\tval-auc:0.83417\n",
      "[240]\ttrain-auc:0.94999\tval-auc:0.83336\n",
      "[250]\ttrain-auc:0.95088\tval-auc:0.83341\n",
      "[260]\ttrain-auc:0.95235\tval-auc:0.83379\n",
      "[270]\ttrain-auc:0.95333\tval-auc:0.83389\n",
      "[280]\ttrain-auc:0.95470\tval-auc:0.83288\n",
      "[290]\ttrain-auc:0.95576\tval-auc:0.83274\n",
      "[300]\ttrain-auc:0.95733\tval-auc:0.83173\n",
      "[310]\ttrain-auc:0.95886\tval-auc:0.83222\n",
      "[320]\ttrain-auc:0.95972\tval-auc:0.83201\n",
      "[330]\ttrain-auc:0.96091\tval-auc:0.83139\n",
      "[340]\ttrain-auc:0.96172\tval-auc:0.83101\n",
      "[350]\ttrain-auc:0.96298\tval-auc:0.83059\n",
      "[360]\ttrain-auc:0.96416\tval-auc:0.83034\n",
      "[370]\ttrain-auc:0.96539\tval-auc:0.82945\n",
      "[380]\ttrain-auc:0.96669\tval-auc:0.82905\n",
      "[390]\ttrain-auc:0.96785\tval-auc:0.82876\n",
      "[400]\ttrain-auc:0.96876\tval-auc:0.82846\n",
      "[410]\ttrain-auc:0.96983\tval-auc:0.82744\n",
      "[420]\ttrain-auc:0.97055\tval-auc:0.82764\n",
      "[430]\ttrain-auc:0.97115\tval-auc:0.82695\n",
      "[440]\ttrain-auc:0.97213\tval-auc:0.82659\n",
      "[450]\ttrain-auc:0.97303\tval-auc:0.82662\n",
      "[460]\ttrain-auc:0.97357\tval-auc:0.82642\n",
      "[470]\ttrain-auc:0.97421\tval-auc:0.82591\n",
      "[480]\ttrain-auc:0.97497\tval-auc:0.82635\n",
      "[490]\ttrain-auc:0.97576\tval-auc:0.82604\n",
      "[499]\ttrain-auc:0.97642\tval-auc:0.82599\n"
     ]
    }
   ],
   "source": [
    "xgb_params = {\n",
    "    'eta': 0.1,\n",
    "    'max_depth': 3,\n",
    "    'min_child_weight': 1,\n",
    "\n",
    "    'objective': 'binary:logistic',\n",
    "    'eval_metric': 'auc',\n",
    "    'nthread': 8,\n",
    "    'seed': 1,\n",
    "}\n",
    "\n",
    "model = xgb.train(xgb_params, dtrain,\n",
    "                  num_boost_round=500, verbose_eval=10,\n",
    "                  evals=watchlist)"
   ]
  },
  {
   "cell_type": "code",
   "execution_count": 153,
   "metadata": {},
   "outputs": [
    {
     "name": "stdout",
     "output_type": "stream",
     "text": [
      "[0]\ttrain-auc:0.86300\tval-auc:0.76818\n",
      "[5]\ttrain-auc:0.92863\tval-auc:0.80606\n",
      "[10]\ttrain-auc:0.95002\tval-auc:0.81558\n",
      "[15]\ttrain-auc:0.96558\tval-auc:0.81680\n",
      "[20]\ttrain-auc:0.97316\tval-auc:0.81775\n",
      "[25]\ttrain-auc:0.98174\tval-auc:0.81878\n",
      "[30]\ttrain-auc:0.98772\tval-auc:0.81788\n",
      "[35]\ttrain-auc:0.99180\tval-auc:0.81510\n",
      "[40]\ttrain-auc:0.99456\tval-auc:0.81387\n",
      "[45]\ttrain-auc:0.99596\tval-auc:0.81462\n",
      "[50]\ttrain-auc:0.99688\tval-auc:0.81128\n",
      "[55]\ttrain-auc:0.99787\tval-auc:0.80874\n",
      "[60]\ttrain-auc:0.99889\tval-auc:0.80801\n",
      "[65]\ttrain-auc:0.99919\tval-auc:0.80751\n",
      "[70]\ttrain-auc:0.99944\tval-auc:0.80732\n",
      "[75]\ttrain-auc:0.99964\tval-auc:0.80692\n",
      "[80]\ttrain-auc:0.99985\tval-auc:0.80677\n",
      "[85]\ttrain-auc:0.99986\tval-auc:0.80671\n",
      "[90]\ttrain-auc:0.99991\tval-auc:0.80637\n",
      "[95]\ttrain-auc:0.99996\tval-auc:0.80580\n",
      "[99]\ttrain-auc:0.99997\tval-auc:0.80546\n",
      "\n"
     ]
    }
   ],
   "source": [
    "print(output)\n"
   ]
  },
  {
   "cell_type": "code",
   "execution_count": 154,
   "metadata": {},
   "outputs": [
    {
     "name": "stdout",
     "output_type": "stream",
     "text": [
      "0.81878\n"
     ]
    }
   ],
   "source": [
    "tree, _, aucs_val = parse_xgb_output(output)\n",
    "print(max(aucs_val))"
   ]
  },
  {
   "cell_type": "code",
   "execution_count": 155,
   "metadata": {},
   "outputs": [
    {
     "data": {
      "text/plain": [
       "(0.81878, 25)"
      ]
     },
     "execution_count": 155,
     "metadata": {},
     "output_type": "execute_result"
    }
   ],
   "source": [
    "max(zip(aucs_val, tree))\n"
   ]
  },
  {
   "cell_type": "code",
   "execution_count": 156,
   "metadata": {},
   "outputs": [
    {
     "data": {
      "image/png": "[encoded data removed]",
      "text/plain": [
       "<Figure size 432x288 with 1 Axes>"
      ]
     },
     "metadata": {
      "needs_background": "light"
     },
     "output_type": "display_data"
    }
   ],
   "source": [
    "plt.figure(figsize=(6, 4))\n",
    "\n",
    "plt.plot(tree, aucs_val, color='black', linestyle='solid')\n",
    "\n",
    "\n",
    "plt.ylim(0.80, 0.84)\n",
    "plt.xlim(0, 510)\n",
    "plt.xticks(range(0, 501, 100))\n",
    "plt.yticks(np.linspace(0.80, 0.84, 9))\n",
    "\n",
    "\n",
    "plt.vlines(180, 0, 1, color='grey', linestyle='dashed', linewidth=0.9)\n",
    "\n",
    "plt.title('Selecting the number of trees')\n",
    "plt.xlabel('Number of trees')\n",
    "plt.ylabel('AUC (validation)')\n",
    "\n",
    "# plt.savefig('ch06-figures/06_xgb_number_trees.svg')\n",
    "\n",
    "plt.show()\n"
   ]
  },
  {
   "cell_type": "code",
   "execution_count": 157,
   "metadata": {},
   "outputs": [
    {
     "name": "stdout",
     "output_type": "stream",
     "text": [
      "[0]\ttrain-auc:0.77424\tval-auc:0.73571\n",
      "[10]\ttrain-auc:0.84733\tval-auc:0.78964\n",
      "[20]\ttrain-auc:0.86359\tval-auc:0.80617\n",
      "[30]\ttrain-auc:0.87855\tval-auc:0.81478\n",
      "[40]\ttrain-auc:0.88701\tval-auc:0.81990\n",
      "[50]\ttrain-auc:0.89458\tval-auc:0.82595\n",
      "[60]\ttrain-auc:0.90159\tval-auc:0.82807\n",
      "[70]\ttrain-auc:0.90650\tval-auc:0.82801\n",
      "[80]\ttrain-auc:0.91110\tval-auc:0.82940\n",
      "[90]\ttrain-auc:0.91428\tval-auc:0.82997\n",
      "[100]\ttrain-auc:0.91801\tval-auc:0.83221\n",
      "[110]\ttrain-auc:0.92205\tval-auc:0.83290\n",
      "[120]\ttrain-auc:0.92460\tval-auc:0.83285\n",
      "[130]\ttrain-auc:0.92843\tval-auc:0.83414\n",
      "[140]\ttrain-auc:0.93100\tval-auc:0.83463\n",
      "[150]\ttrain-auc:0.93296\tval-auc:0.83525\n",
      "[160]\ttrain-auc:0.93551\tval-auc:0.83554\n",
      "[170]\ttrain-auc:0.93788\tval-auc:0.83638\n",
      "[179]\ttrain-auc:0.93962\tval-auc:0.83648\n"
     ]
    }
   ],
   "source": [
    "xgb_params = {\n",
    "    'eta': 0.1,\n",
    "    'max_depth': 3,\n",
    "    'min_child_weight': 1,\n",
    "\n",
    "    'objective': 'binary:logistic',\n",
    "    'eval_metric': 'auc',\n",
    "    'nthread': 8,\n",
    "    'seed': 1,\n",
    "}\n",
    "\n",
    "model = xgb.train(xgb_params, dtrain,\n",
    "                  num_boost_round=180, verbose_eval=10,\n",
    "                  evals=watchlist)"
   ]
  },
  {
   "cell_type": "code",
   "execution_count": 158,
   "metadata": {},
   "outputs": [],
   "source": [
    "y_pred_xgb = model.predict(dval)\n"
   ]
  },
  {
   "cell_type": "code",
   "execution_count": 159,
   "metadata": {},
   "outputs": [
    {
     "data": {
      "text/plain": [
       "0.8364807100821002"
      ]
     },
     "execution_count": 159,
     "metadata": {},
     "output_type": "execute_result"
    }
   ],
   "source": [
    "roc_auc_score(y_val, y_pred_xgb)\n"
   ]
  },
  {
   "cell_type": "code",
   "execution_count": 160,
   "metadata": {},
   "outputs": [
    {
     "name": "stdout",
     "output_type": "stream",
     "text": [
      "0.7850954203095104\n",
      "0.8253826499721489\n",
      "0.8364807100821002\n"
     ]
    }
   ],
   "source": [
    "print(roc_auc_score(y_val, y_pred_dt))\n",
    "print(roc_auc_score(y_val, y_pred_rf))\n",
    "print(roc_auc_score(y_val, y_pred_xgb))"
   ]
  },
  {
   "cell_type": "code",
   "execution_count": 161,
   "metadata": {},
   "outputs": [
    {
     "data": {
      "image/png": "[encoded data removed]",
      "text/plain": [
       "<Figure size 360x360 with 1 Axes>"
      ]
     },
     "metadata": {
      "needs_background": "light"
     },
     "output_type": "display_data"
    }
   ],
   "source": [
    "plt.figure(figsize=(5, 5))\n",
    "\n",
    "fpr, tpr, _ = roc_curve(y_val, y_pred_xgb)\n",
    "plt.plot(fpr, tpr, color='black')\n",
    "\n",
    "fpr, tpr, _ = roc_curve(y_val, y_pred_rf)\n",
    "plt.plot(fpr, tpr, color='grey', linestyle='dashed', alpha=0.9)\n",
    "\n",
    "fpr, tpr, _ = roc_curve(y_val, y_pred_dt)\n",
    "plt.plot(fpr, tpr, color='grey', linestyle='dashed', alpha=0.9)\n",
    "\n",
    "plt.plot([0, 1], [0, 1], color='black', lw=0.7, linestyle='dashed', alpha=0.5)\n",
    "\n",
    "plt.xlim([-0.02, 1.02])\n",
    "plt.ylim([-0.02, 1.02])\n",
    "plt.xlabel('False Positive Rate')\n",
    "plt.ylabel('True Positive Rate')\n",
    "\n",
    "plt.title('ROC curve')\n",
    "\n",
    "plt.show()"
   ]
  },
  {
   "cell_type": "code",
   "execution_count": 162,
   "metadata": {},
   "outputs": [],
   "source": [
    "y_train_full = (df_train_full.status == 'default').values\n",
    "y_test = (df_test.status == 'default').values\n",
    "\n",
    "del df_train_full['status']\n",
    "del df_test['status']"
   ]
  },
  {
   "cell_type": "code",
   "execution_count": 163,
   "metadata": {},
   "outputs": [],
   "source": [
    "dict_train_full = df_train_full.fillna(0).to_dict(orient='records')\n",
    "dict_test = df_test.fillna(0).to_dict(orient='records')\n",
    "\n",
    "dv = DictVectorizer(sparse=False)\n",
    "X_train_full = dv.fit_transform(dict_train_full)\n",
    "X_test = dv.transform(dict_test)"
   ]
  },
  {
   "cell_type": "code",
   "execution_count": 164,
   "metadata": {},
   "outputs": [],
   "source": [
    "rf_final = RandomForestClassifier(n_estimators=200, max_depth=10, min_samples_leaf=5, random_state=1)\n",
    "rf_final.fit(X_train_full, y_train_full)\n",
    "\n",
    "y_pred_rf = rf.predict_proba(X_test)[:, 1]"
   ]
  },
  {
   "cell_type": "code",
   "execution_count": 165,
   "metadata": {},
   "outputs": [],
   "source": [
    "dtrain_full = xgb.DMatrix(X_train_full, label=y_train_full, feature_names=dv.feature_names_)\n",
    "dtest = xgb.DMatrix(X_test, label=y_test, feature_names=dv.feature_names_)\n",
    "\n",
    "xgb_params = {\n",
    "    'eta': 0.1,\n",
    "    'max_depth': 3,\n",
    "    'min_child_weight': 1,\n",
    "\n",
    "    'objective': 'binary:logistic',\n",
    "    'eval_metric': 'auc',\n",
    "    'nthread': 8,\n",
    "    'seed': 1,\n",
    "}\n",
    "\n",
    "num_trees = 160\n",
    "\n",
    "xgb_final = xgb.train(xgb_params, dtrain_full, num_boost_round=num_trees)"
   ]
  },
  {
   "cell_type": "code",
   "execution_count": 166,
   "metadata": {},
   "outputs": [],
   "source": [
    "y_pred_xgb = xgb_final.predict(dtest)\n"
   ]
  },
  {
   "cell_type": "code",
   "execution_count": 167,
   "metadata": {},
   "outputs": [
    {
     "name": "stdout",
     "output_type": "stream",
     "text": [
      "0.8241777039245393\n",
      "0.8322845901959826\n"
     ]
    }
   ],
   "source": [
    "print(roc_auc_score(y_test, y_pred_rf))\n",
    "print(roc_auc_score(y_test, y_pred_xgb))"
   ]
  },
  {
   "cell_type": "code",
   "execution_count": 168,
   "metadata": {},
   "outputs": [
    {
     "data": {
      "text/plain": [
       "array([0.01600051, 0.04970444, 0.12051523, 0.00833288, 0.0250906 ,\n",
       "       0.        , 0.        , 0.        , 0.        , 0.        ,\n",
       "       0.        , 0.        , 0.18548089, 0.00699145, 0.        ,\n",
       "       0.        , 0.17292753, 0.        , 0.        , 0.        ,\n",
       "       0.        , 0.        , 0.        , 0.        , 0.0302163 ,\n",
       "       0.24421676, 0.        , 0.12658146, 0.01394197])"
      ]
     },
     "execution_count": 168,
     "metadata": {},
     "output_type": "execute_result"
    }
   ],
   "source": [
    "dt.feature_importances_\n"
   ]
  },
  {
   "cell_type": "code",
   "execution_count": 169,
   "metadata": {},
   "outputs": [
    {
     "data": {
      "text/plain": [
       "[('age', 0.016000509929902092),\n",
       " ('amount', 0.04970443671934234),\n",
       " ('assets', 0.12051522618539554),\n",
       " ('debt', 0.008332876385504904),\n",
       " ('expenses', 0.02509060257588133),\n",
       " ('home=ignore', 0.0),\n",
       " ('home=other', 0.0),\n",
       " ('home=owner', 0.0),\n",
       " ('home=parents', 0.0),\n",
       " ('home=private', 0.0),\n",
       " ('home=rent', 0.0),\n",
       " ('home=unk', 0.0),\n",
       " ('income', 0.185480885992072),\n",
       " ('job=fixed', 0.006991445659436668),\n",
       " ('job=freelance', 0.0),\n",
       " ('job=others', 0.0),\n",
       " ('job=partime', 0.17292752964348088),\n",
       " ('job=unk', 0.0),\n",
       " ('marital=divorced', 0.0),\n",
       " ('marital=married', 0.0),\n",
       " ('marital=separated', 0.0),\n",
       " ('marital=single', 0.0),\n",
       " ('marital=unk', 0.0),\n",
       " ('marital=widow', 0.0),\n",
       " ('price', 0.030216298419676546),\n",
       " ('records=no', 0.2442167576209344),\n",
       " ('records=yes', 0.0),\n",
       " ('seniority', 0.12658145602795504),\n",
       " ('time', 0.013941974840418335)]"
      ]
     },
     "execution_count": 169,
     "metadata": {},
     "output_type": "execute_result"
    }
   ],
   "source": [
    "list(zip(dv.feature_names_, dt.feature_importances_))\n"
   ]
  },
  {
   "cell_type": "code",
   "execution_count": 170,
   "metadata": {},
   "outputs": [
    {
     "data": {
      "text/html": [
       "<div>\n",
       "<style scoped>\n",
       "    .dataframe tbody tr th:only-of-type {\n",
       "        vertical-align: middle;\n",
       "    }\n",
       "\n",
       "    .dataframe tbody tr th {\n",
       "        vertical-align: top;\n",
       "    }\n",
       "\n",
       "    .dataframe thead th {\n",
       "        text-align: right;\n",
       "    }\n",
       "</style>\n",
       "<table border=\"1\" class=\"dataframe\">\n",
       "  <thead>\n",
       "    <tr style=\"text-align: right;\">\n",
       "      <th></th>\n",
       "      <th>feature</th>\n",
       "      <th>gain</th>\n",
       "    </tr>\n",
       "  </thead>\n",
       "  <tbody>\n",
       "    <tr>\n",
       "      <th>25</th>\n",
       "      <td>records=no</td>\n",
       "      <td>0.244217</td>\n",
       "    </tr>\n",
       "    <tr>\n",
       "      <th>12</th>\n",
       "      <td>income</td>\n",
       "      <td>0.185481</td>\n",
       "    </tr>\n",
       "    <tr>\n",
       "      <th>16</th>\n",
       "      <td>job=partime</td>\n",
       "      <td>0.172928</td>\n",
       "    </tr>\n",
       "    <tr>\n",
       "      <th>27</th>\n",
       "      <td>seniority</td>\n",
       "      <td>0.126581</td>\n",
       "    </tr>\n",
       "    <tr>\n",
       "      <th>2</th>\n",
       "      <td>assets</td>\n",
       "      <td>0.120515</td>\n",
       "    </tr>\n",
       "    <tr>\n",
       "      <th>1</th>\n",
       "      <td>amount</td>\n",
       "      <td>0.049704</td>\n",
       "    </tr>\n",
       "    <tr>\n",
       "      <th>24</th>\n",
       "      <td>price</td>\n",
       "      <td>0.030216</td>\n",
       "    </tr>\n",
       "    <tr>\n",
       "      <th>4</th>\n",
       "      <td>expenses</td>\n",
       "      <td>0.025091</td>\n",
       "    </tr>\n",
       "    <tr>\n",
       "      <th>0</th>\n",
       "      <td>age</td>\n",
       "      <td>0.016001</td>\n",
       "    </tr>\n",
       "    <tr>\n",
       "      <th>28</th>\n",
       "      <td>time</td>\n",
       "      <td>0.013942</td>\n",
       "    </tr>\n",
       "    <tr>\n",
       "      <th>3</th>\n",
       "      <td>debt</td>\n",
       "      <td>0.008333</td>\n",
       "    </tr>\n",
       "    <tr>\n",
       "      <th>13</th>\n",
       "      <td>job=fixed</td>\n",
       "      <td>0.006991</td>\n",
       "    </tr>\n",
       "    <tr>\n",
       "      <th>10</th>\n",
       "      <td>home=rent</td>\n",
       "      <td>0.000000</td>\n",
       "    </tr>\n",
       "    <tr>\n",
       "      <th>20</th>\n",
       "      <td>marital=separated</td>\n",
       "      <td>0.000000</td>\n",
       "    </tr>\n",
       "    <tr>\n",
       "      <th>26</th>\n",
       "      <td>records=yes</td>\n",
       "      <td>0.000000</td>\n",
       "    </tr>\n",
       "    <tr>\n",
       "      <th>5</th>\n",
       "      <td>home=ignore</td>\n",
       "      <td>0.000000</td>\n",
       "    </tr>\n",
       "    <tr>\n",
       "      <th>6</th>\n",
       "      <td>home=other</td>\n",
       "      <td>0.000000</td>\n",
       "    </tr>\n",
       "    <tr>\n",
       "      <th>23</th>\n",
       "      <td>marital=widow</td>\n",
       "      <td>0.000000</td>\n",
       "    </tr>\n",
       "    <tr>\n",
       "      <th>22</th>\n",
       "      <td>marital=unk</td>\n",
       "      <td>0.000000</td>\n",
       "    </tr>\n",
       "    <tr>\n",
       "      <th>21</th>\n",
       "      <td>marital=single</td>\n",
       "      <td>0.000000</td>\n",
       "    </tr>\n",
       "    <tr>\n",
       "      <th>19</th>\n",
       "      <td>marital=married</td>\n",
       "      <td>0.000000</td>\n",
       "    </tr>\n",
       "    <tr>\n",
       "      <th>11</th>\n",
       "      <td>home=unk</td>\n",
       "      <td>0.000000</td>\n",
       "    </tr>\n",
       "    <tr>\n",
       "      <th>18</th>\n",
       "      <td>marital=divorced</td>\n",
       "      <td>0.000000</td>\n",
       "    </tr>\n",
       "    <tr>\n",
       "      <th>17</th>\n",
       "      <td>job=unk</td>\n",
       "      <td>0.000000</td>\n",
       "    </tr>\n",
       "    <tr>\n",
       "      <th>7</th>\n",
       "      <td>home=owner</td>\n",
       "      <td>0.000000</td>\n",
       "    </tr>\n",
       "    <tr>\n",
       "      <th>15</th>\n",
       "      <td>job=others</td>\n",
       "      <td>0.000000</td>\n",
       "    </tr>\n",
       "    <tr>\n",
       "      <th>8</th>\n",
       "      <td>home=parents</td>\n",
       "      <td>0.000000</td>\n",
       "    </tr>\n",
       "    <tr>\n",
       "      <th>9</th>\n",
       "      <td>home=private</td>\n",
       "      <td>0.000000</td>\n",
       "    </tr>\n",
       "    <tr>\n",
       "      <th>14</th>\n",
       "      <td>job=freelance</td>\n",
       "      <td>0.000000</td>\n",
       "    </tr>\n",
       "  </tbody>\n",
       "</table>\n",
       "</div>"
      ],
      "text/plain": [
       "              feature      gain\n",
       "25         records=no  0.244217\n",
       "12             income  0.185481\n",
       "16        job=partime  0.172928\n",
       "27          seniority  0.126581\n",
       "2              assets  0.120515\n",
       "1              amount  0.049704\n",
       "24              price  0.030216\n",
       "4            expenses  0.025091\n",
       "0                 age  0.016001\n",
       "28               time  0.013942\n",
       "3                debt  0.008333\n",
       "13          job=fixed  0.006991\n",
       "10          home=rent  0.000000\n",
       "20  marital=separated  0.000000\n",
       "26        records=yes  0.000000\n",
       "5         home=ignore  0.000000\n",
       "6          home=other  0.000000\n",
       "23      marital=widow  0.000000\n",
       "22        marital=unk  0.000000\n",
       "21     marital=single  0.000000\n",
       "19    marital=married  0.000000\n",
       "11           home=unk  0.000000\n",
       "18   marital=divorced  0.000000\n",
       "17            job=unk  0.000000\n",
       "7          home=owner  0.000000\n",
       "15         job=others  0.000000\n",
       "8        home=parents  0.000000\n",
       "9        home=private  0.000000\n",
       "14      job=freelance  0.000000"
      ]
     },
     "execution_count": 170,
     "metadata": {},
     "output_type": "execute_result"
    }
   ],
   "source": [
    "importances = list(zip(dv.feature_names_, dt.feature_importances_))\n",
    "\n",
    "df_importance = pd.DataFrame(importances, columns=['feature', 'gain'])\n",
    "df_importance = df_importance.sort_values(by='gain', ascending=False)\n",
    "df_importance"
   ]
  },
  {
   "cell_type": "code",
   "execution_count": 171,
   "metadata": {},
   "outputs": [],
   "source": [
    "df_importance = df_importance[df_importance.gain > 0]\n"
   ]
  },
  {
   "cell_type": "code",
   "execution_count": 172,
   "metadata": {},
   "outputs": [
    {
     "data": {
      "image/png": "[encoded data removed]",
      "text/plain": [
       "<Figure size 432x288 with 1 Axes>"
      ]
     },
     "metadata": {
      "needs_background": "light"
     },
     "output_type": "display_data"
    }
   ],
   "source": [
    "num = len(df_importance)\n",
    "plt.barh(range(num), df_importance.gain[::-1])\n",
    "plt.yticks(range(num), df_importance.feature[::-1])\n",
    "\n",
    "plt.show()"
   ]
  },
  {
   "cell_type": "code",
   "execution_count": 173,
   "metadata": {},
   "outputs": [
    {
     "data": {
      "text/plain": [
       "array([5.81509463e-02, 8.42444361e-02, 7.75901403e-02, 1.33739427e-02,\n",
       "       3.62995916e-02, 1.26998064e-06, 5.25854792e-03, 2.57383446e-02,\n",
       "       8.51497558e-03, 3.24437831e-03, 1.44619658e-02, 0.00000000e+00,\n",
       "       1.50682384e-01, 4.78310889e-02, 9.96408243e-03, 2.85512508e-03,\n",
       "       5.65260797e-02, 0.00000000e+00, 2.43128646e-04, 6.42996557e-03,\n",
       "       1.68784119e-03, 6.67458246e-03, 0.00000000e+00, 1.97498337e-04,\n",
       "       6.62193254e-02, 8.41683921e-02, 8.30420483e-02, 1.25453198e-01,\n",
       "       3.11467205e-02])"
      ]
     },
     "execution_count": 173,
     "metadata": {},
     "output_type": "execute_result"
    }
   ],
   "source": [
    "rf.feature_importances_\n"
   ]
  },
  {
   "cell_type": "code",
   "execution_count": 174,
   "metadata": {},
   "outputs": [
    {
     "data": {
      "text/html": [
       "<div>\n",
       "<style scoped>\n",
       "    .dataframe tbody tr th:only-of-type {\n",
       "        vertical-align: middle;\n",
       "    }\n",
       "\n",
       "    .dataframe tbody tr th {\n",
       "        vertical-align: top;\n",
       "    }\n",
       "\n",
       "    .dataframe thead th {\n",
       "        text-align: right;\n",
       "    }\n",
       "</style>\n",
       "<table border=\"1\" class=\"dataframe\">\n",
       "  <thead>\n",
       "    <tr style=\"text-align: right;\">\n",
       "      <th></th>\n",
       "      <th>feature</th>\n",
       "      <th>gain</th>\n",
       "    </tr>\n",
       "  </thead>\n",
       "  <tbody>\n",
       "    <tr>\n",
       "      <th>12</th>\n",
       "      <td>income</td>\n",
       "      <td>0.150682</td>\n",
       "    </tr>\n",
       "    <tr>\n",
       "      <th>27</th>\n",
       "      <td>seniority</td>\n",
       "      <td>0.125453</td>\n",
       "    </tr>\n",
       "    <tr>\n",
       "      <th>1</th>\n",
       "      <td>amount</td>\n",
       "      <td>0.084244</td>\n",
       "    </tr>\n",
       "    <tr>\n",
       "      <th>25</th>\n",
       "      <td>records=no</td>\n",
       "      <td>0.084168</td>\n",
       "    </tr>\n",
       "    <tr>\n",
       "      <th>26</th>\n",
       "      <td>records=yes</td>\n",
       "      <td>0.083042</td>\n",
       "    </tr>\n",
       "    <tr>\n",
       "      <th>2</th>\n",
       "      <td>assets</td>\n",
       "      <td>0.077590</td>\n",
       "    </tr>\n",
       "    <tr>\n",
       "      <th>24</th>\n",
       "      <td>price</td>\n",
       "      <td>0.066219</td>\n",
       "    </tr>\n",
       "    <tr>\n",
       "      <th>0</th>\n",
       "      <td>age</td>\n",
       "      <td>0.058151</td>\n",
       "    </tr>\n",
       "    <tr>\n",
       "      <th>16</th>\n",
       "      <td>job=partime</td>\n",
       "      <td>0.056526</td>\n",
       "    </tr>\n",
       "    <tr>\n",
       "      <th>13</th>\n",
       "      <td>job=fixed</td>\n",
       "      <td>0.047831</td>\n",
       "    </tr>\n",
       "    <tr>\n",
       "      <th>4</th>\n",
       "      <td>expenses</td>\n",
       "      <td>0.036300</td>\n",
       "    </tr>\n",
       "    <tr>\n",
       "      <th>28</th>\n",
       "      <td>time</td>\n",
       "      <td>0.031147</td>\n",
       "    </tr>\n",
       "    <tr>\n",
       "      <th>7</th>\n",
       "      <td>home=owner</td>\n",
       "      <td>0.025738</td>\n",
       "    </tr>\n",
       "    <tr>\n",
       "      <th>10</th>\n",
       "      <td>home=rent</td>\n",
       "      <td>0.014462</td>\n",
       "    </tr>\n",
       "    <tr>\n",
       "      <th>3</th>\n",
       "      <td>debt</td>\n",
       "      <td>0.013374</td>\n",
       "    </tr>\n",
       "    <tr>\n",
       "      <th>14</th>\n",
       "      <td>job=freelance</td>\n",
       "      <td>0.009964</td>\n",
       "    </tr>\n",
       "    <tr>\n",
       "      <th>8</th>\n",
       "      <td>home=parents</td>\n",
       "      <td>0.008515</td>\n",
       "    </tr>\n",
       "    <tr>\n",
       "      <th>21</th>\n",
       "      <td>marital=single</td>\n",
       "      <td>0.006675</td>\n",
       "    </tr>\n",
       "    <tr>\n",
       "      <th>19</th>\n",
       "      <td>marital=married</td>\n",
       "      <td>0.006430</td>\n",
       "    </tr>\n",
       "    <tr>\n",
       "      <th>6</th>\n",
       "      <td>home=other</td>\n",
       "      <td>0.005259</td>\n",
       "    </tr>\n",
       "    <tr>\n",
       "      <th>9</th>\n",
       "      <td>home=private</td>\n",
       "      <td>0.003244</td>\n",
       "    </tr>\n",
       "    <tr>\n",
       "      <th>15</th>\n",
       "      <td>job=others</td>\n",
       "      <td>0.002855</td>\n",
       "    </tr>\n",
       "    <tr>\n",
       "      <th>20</th>\n",
       "      <td>marital=separated</td>\n",
       "      <td>0.001688</td>\n",
       "    </tr>\n",
       "    <tr>\n",
       "      <th>18</th>\n",
       "      <td>marital=divorced</td>\n",
       "      <td>0.000243</td>\n",
       "    </tr>\n",
       "    <tr>\n",
       "      <th>23</th>\n",
       "      <td>marital=widow</td>\n",
       "      <td>0.000197</td>\n",
       "    </tr>\n",
       "    <tr>\n",
       "      <th>5</th>\n",
       "      <td>home=ignore</td>\n",
       "      <td>0.000001</td>\n",
       "    </tr>\n",
       "    <tr>\n",
       "      <th>22</th>\n",
       "      <td>marital=unk</td>\n",
       "      <td>0.000000</td>\n",
       "    </tr>\n",
       "    <tr>\n",
       "      <th>17</th>\n",
       "      <td>job=unk</td>\n",
       "      <td>0.000000</td>\n",
       "    </tr>\n",
       "    <tr>\n",
       "      <th>11</th>\n",
       "      <td>home=unk</td>\n",
       "      <td>0.000000</td>\n",
       "    </tr>\n",
       "  </tbody>\n",
       "</table>\n",
       "</div>"
      ],
      "text/plain": [
       "              feature      gain\n",
       "12             income  0.150682\n",
       "27          seniority  0.125453\n",
       "1              amount  0.084244\n",
       "25         records=no  0.084168\n",
       "26        records=yes  0.083042\n",
       "2              assets  0.077590\n",
       "24              price  0.066219\n",
       "0                 age  0.058151\n",
       "16        job=partime  0.056526\n",
       "13          job=fixed  0.047831\n",
       "4            expenses  0.036300\n",
       "28               time  0.031147\n",
       "7          home=owner  0.025738\n",
       "10          home=rent  0.014462\n",
       "3                debt  0.013374\n",
       "14      job=freelance  0.009964\n",
       "8        home=parents  0.008515\n",
       "21     marital=single  0.006675\n",
       "19    marital=married  0.006430\n",
       "6          home=other  0.005259\n",
       "9        home=private  0.003244\n",
       "15         job=others  0.002855\n",
       "20  marital=separated  0.001688\n",
       "18   marital=divorced  0.000243\n",
       "23      marital=widow  0.000197\n",
       "5         home=ignore  0.000001\n",
       "22        marital=unk  0.000000\n",
       "17            job=unk  0.000000\n",
       "11           home=unk  0.000000"
      ]
     },
     "execution_count": 174,
     "metadata": {},
     "output_type": "execute_result"
    }
   ],
   "source": [
    "importances = list(zip(dv.feature_names_, rf.feature_importances_))\n",
    "\n",
    "df_importance = pd.DataFrame(importances, columns=['feature', 'gain'])\n",
    "df_importance = df_importance.sort_values(by='gain', ascending=False)\n",
    "df_importance"
   ]
  },
  {
   "cell_type": "code",
   "execution_count": 175,
   "metadata": {},
   "outputs": [],
   "source": [
    "df_importance = df_importance[df_importance.gain > 0.01]\n"
   ]
  },
  {
   "cell_type": "code",
   "execution_count": 176,
   "metadata": {},
   "outputs": [
    {
     "data": {
      "image/png": "[encoded data removed]",
      "text/plain": [
       "<Figure size 432x288 with 1 Axes>"
      ]
     },
     "metadata": {
      "needs_background": "light"
     },
     "output_type": "display_data"
    }
   ],
   "source": [
    "num = len(df_importance)\n",
    "plt.barh(range(num), df_importance.gain[::-1])\n",
    "plt.yticks(range(num), df_importance.feature[::-1])\n",
    "\n",
    "plt.show()"
   ]
  },
  {
   "cell_type": "code",
   "execution_count": 177,
   "metadata": {},
   "outputs": [
    {
     "data": {
      "text/plain": [
       "[('records=no', 20.205886172916674),\n",
       " ('job=partime', 19.571840249333327),\n",
       " ('job=fixed', 14.703467482368419),\n",
       " ('home=owner', 12.168287986666668),\n",
       " ('seniority', 10.932046450639472),\n",
       " ('income', 8.676314026390978),\n",
       " ('assets', 5.918307806556342),\n",
       " ('amount', 5.400780562456791),\n",
       " ('time', 5.0175909627586215),\n",
       " ('home=parents', 4.499092019090908),\n",
       " ('home=rent', 4.028717651875),\n",
       " ('price', 3.794684632054546),\n",
       " ('expenses', 3.589669993872826),\n",
       " ('age', 3.318183602376148),\n",
       " ('debt', 2.9418528525873007),\n",
       " ('marital=separated', 2.641880279076923),\n",
       " ('home=private', 2.4620430769999997),\n",
       " ('marital=married', 2.427789335636364),\n",
       " ('home=other', 2.301698443333333),\n",
       " ('job=freelance', 2.25929752),\n",
       " ('job=others', 1.61876595),\n",
       " ('home=ignore', 0.7887506362000001)]"
      ]
     },
     "execution_count": 177,
     "metadata": {},
     "output_type": "execute_result"
    }
   ],
   "source": [
    "scores = model.get_score(importance_type='gain')\n",
    "scores = sorted(scores.items(), key=lambda x: x[1])\n",
    "list(reversed(scores))"
   ]
  },
  {
   "cell_type": "code",
   "execution_count": 178,
   "metadata": {},
   "outputs": [
    {
     "data": {
      "text/plain": [
       "[('price', 165),\n",
       " ('amount', 162),\n",
       " ('assets', 142),\n",
       " ('income', 133),\n",
       " ('seniority', 119),\n",
       " ('age', 109),\n",
       " ('expenses', 92),\n",
       " ('debt', 63),\n",
       " ('records=no', 60),\n",
       " ('time', 29),\n",
       " ('home=parents', 22),\n",
       " ('job=partime', 21),\n",
       " ('job=fixed', 19),\n",
       " ('marital=separated', 13),\n",
       " ('home=private', 12),\n",
       " ('marital=married', 11),\n",
       " ('home=rent', 8),\n",
       " ('home=owner', 6),\n",
       " ('home=ignore', 5),\n",
       " ('job=freelance', 4),\n",
       " ('home=other', 3),\n",
       " ('job=others', 1)]"
      ]
     },
     "execution_count": 178,
     "metadata": {},
     "output_type": "execute_result"
    }
   ],
   "source": [
    "scores = model.get_score(importance_type='weight')\n",
    "scores = sorted(scores.items(), key=lambda x: x[1])\n",
    "list(reversed(scores))"
   ]
  },
  {
   "cell_type": "code",
   "execution_count": 179,
   "metadata": {},
   "outputs": [],
   "source": [
    "names = [n for (n, s) in scores]\n",
    "scores = [s for (n, s) in scores]"
   ]
  },
  {
   "cell_type": "code",
   "execution_count": 180,
   "metadata": {},
   "outputs": [
    {
     "data": {
      "image/png": "[encoded data removed]",
      "text/plain": [
       "<Figure size 432x576 with 1 Axes>"
      ]
     },
     "metadata": {
      "needs_background": "light"
     },
     "output_type": "display_data"
    }
   ],
   "source": [
    "plt.figure(figsize=(6, 8))\n",
    "\n",
    "plt.barh(np.arange(len(scores)), scores)\n",
    "plt.yticks(np.arange(len(names)), names)\n",
    "\n",
    "plt.show()"
   ]
  },
  {
   "cell_type": "code",
   "execution_count": 181,
   "metadata": {},
   "outputs": [],
   "source": [
    "from sklearn.ensemble import ExtraTreesClassifier\n"
   ]
  },
  {
   "cell_type": "code",
   "execution_count": 182,
   "metadata": {},
   "outputs": [
    {
     "name": "stdout",
     "output_type": "stream",
     "text": [
      "10 -> 0.761\n",
      "20 -> 0.777\n",
      "30 -> 0.789\n",
      "40 -> 0.780\n",
      "50 -> 0.793\n",
      "60 -> 0.799\n",
      "70 -> 0.796\n",
      "80 -> 0.787\n",
      "90 -> 0.792\n",
      "100 -> 0.792\n",
      "110 -> 0.793\n",
      "120 -> 0.795\n",
      "130 -> 0.787\n",
      "140 -> 0.797\n",
      "150 -> 0.794\n",
      "160 -> 0.796\n",
      "170 -> 0.794\n",
      "180 -> 0.798\n",
      "190 -> 0.797\n",
      "200 -> 0.796\n"
     ]
    }
   ],
   "source": [
    "aucs = []\n",
    "\n",
    "for i in range(10, 201, 10):\n",
    "    rf = ExtraTreesClassifier(n_estimators=i, max_depth=30)\n",
    "    rf.fit(X_train, y_train)\n",
    "    y_pred = rf.predict_proba(X_val)[:, 1]\n",
    "    auc = roc_auc_score(y_val, y_pred)\n",
    "    print('%s -> %.3f' % (i, auc))\n",
    "    aucs.append(auc)"
   ]
  },
  {
   "cell_type": "code",
   "execution_count": null,
   "metadata": {},
   "outputs": [],
   "source": []
  },
  {
   "cell_type": "code",
   "execution_count": null,
   "metadata": {},
   "outputs": [],
   "source": []
  }
 ],
 "metadata": {
  "interpreter": {
   "hash": "b7a42b06d1133d77cf12f72401d99c27f09b86305b6afcdf33e6dbdb2194e91f"
  },
  "kernelspec": {
   "display_name": "Python 3.9.0 64-bit",
   "language": "python",
   "name": "python3"
  },
  "language_info": {
   "codemirror_mode": {
    "name": "ipython",
    "version": 3
   },
   "file_extension": ".py",
   "mimetype": "text/x-python",
   "name": "python",
   "nbconvert_exporter": "python",
   "pygments_lexer": "ipython3",
   "version": "3.9.0"
  },
  "orig_nbformat": 4
 },
 "nbformat": 4,
 "nbformat_minor": 2
}
